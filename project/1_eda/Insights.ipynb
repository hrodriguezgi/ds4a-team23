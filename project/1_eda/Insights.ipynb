{
 "cells": [
  {
   "cell_type": "markdown",
   "id": "444162fe",
   "metadata": {},
   "source": [
    "## Insights"
   ]
  },
  {
   "cell_type": "code",
   "execution_count": 1,
   "id": "510f72b0",
   "metadata": {},
   "outputs": [],
   "source": [
    "import pandas as pd\n",
    "import numpy as np"
   ]
  },
  {
   "cell_type": "markdown",
   "id": "0b751f41",
   "metadata": {},
   "source": [
    "***Paso 1:*** Cargar la data."
   ]
  },
  {
   "cell_type": "code",
   "execution_count": 2,
   "id": "55dde640",
   "metadata": {},
   "outputs": [
    {
     "ename": "FileNotFoundError",
     "evalue": "[Errno 2] No such file or directory: 'agents.csv.gz'",
     "output_type": "error",
     "traceback": [
      "\u001b[0;31m---------------------------------------------------------------------------\u001b[0m",
      "\u001b[0;31mFileNotFoundError\u001b[0m                         Traceback (most recent call last)",
      "Input \u001b[0;32mIn [2]\u001b[0m, in \u001b[0;36m<cell line: 1>\u001b[0;34m()\u001b[0m\n\u001b[0;32m----> 1\u001b[0m agents \u001b[38;5;241m=\u001b[39m \u001b[43mpd\u001b[49m\u001b[38;5;241;43m.\u001b[39;49m\u001b[43mread_csv\u001b[49m\u001b[43m(\u001b[49m\u001b[38;5;124;43m'\u001b[39;49m\u001b[38;5;124;43magents.csv.gz\u001b[39;49m\u001b[38;5;124;43m'\u001b[39;49m\u001b[43m,\u001b[49m\u001b[43m \u001b[49m\u001b[43mcompression\u001b[49m\u001b[38;5;241;43m=\u001b[39;49m\u001b[38;5;124;43m'\u001b[39;49m\u001b[38;5;124;43mgzip\u001b[39;49m\u001b[38;5;124;43m'\u001b[39;49m\u001b[43m,\u001b[49m\u001b[43m \u001b[49m\n\u001b[1;32m      2\u001b[0m \u001b[43m                                 \u001b[49m\u001b[43mheader\u001b[49m\u001b[38;5;241;43m=\u001b[39;49m\u001b[38;5;241;43m0\u001b[39;49m\u001b[43m,\u001b[49m\u001b[43m \u001b[49m\u001b[43msep\u001b[49m\u001b[38;5;241;43m=\u001b[39;49m\u001b[38;5;124;43m'\u001b[39;49m\u001b[38;5;124;43m,\u001b[39;49m\u001b[38;5;124;43m'\u001b[39;49m\u001b[43m,\u001b[49m\u001b[43m \u001b[49m\u001b[43mquotechar\u001b[49m\u001b[38;5;241;43m=\u001b[39;49m\u001b[38;5;124;43m'\u001b[39;49m\u001b[38;5;124;43m\"\u001b[39;49m\u001b[38;5;124;43m'\u001b[39;49m\u001b[43m)\u001b[49m\n\u001b[1;32m      4\u001b[0m agents\u001b[38;5;241m.\u001b[39mhead(\u001b[38;5;241m5\u001b[39m)\n",
      "File \u001b[0;32m/opt/conda/lib/python3.10/site-packages/pandas/util/_decorators.py:311\u001b[0m, in \u001b[0;36mdeprecate_nonkeyword_arguments.<locals>.decorate.<locals>.wrapper\u001b[0;34m(*args, **kwargs)\u001b[0m\n\u001b[1;32m    305\u001b[0m \u001b[38;5;28;01mif\u001b[39;00m \u001b[38;5;28mlen\u001b[39m(args) \u001b[38;5;241m>\u001b[39m num_allow_args:\n\u001b[1;32m    306\u001b[0m     warnings\u001b[38;5;241m.\u001b[39mwarn(\n\u001b[1;32m    307\u001b[0m         msg\u001b[38;5;241m.\u001b[39mformat(arguments\u001b[38;5;241m=\u001b[39marguments),\n\u001b[1;32m    308\u001b[0m         \u001b[38;5;167;01mFutureWarning\u001b[39;00m,\n\u001b[1;32m    309\u001b[0m         stacklevel\u001b[38;5;241m=\u001b[39mstacklevel,\n\u001b[1;32m    310\u001b[0m     )\n\u001b[0;32m--> 311\u001b[0m \u001b[38;5;28;01mreturn\u001b[39;00m \u001b[43mfunc\u001b[49m\u001b[43m(\u001b[49m\u001b[38;5;241;43m*\u001b[39;49m\u001b[43margs\u001b[49m\u001b[43m,\u001b[49m\u001b[43m \u001b[49m\u001b[38;5;241;43m*\u001b[39;49m\u001b[38;5;241;43m*\u001b[39;49m\u001b[43mkwargs\u001b[49m\u001b[43m)\u001b[49m\n",
      "File \u001b[0;32m/opt/conda/lib/python3.10/site-packages/pandas/io/parsers/readers.py:680\u001b[0m, in \u001b[0;36mread_csv\u001b[0;34m(filepath_or_buffer, sep, delimiter, header, names, index_col, usecols, squeeze, prefix, mangle_dupe_cols, dtype, engine, converters, true_values, false_values, skipinitialspace, skiprows, skipfooter, nrows, na_values, keep_default_na, na_filter, verbose, skip_blank_lines, parse_dates, infer_datetime_format, keep_date_col, date_parser, dayfirst, cache_dates, iterator, chunksize, compression, thousands, decimal, lineterminator, quotechar, quoting, doublequote, escapechar, comment, encoding, encoding_errors, dialect, error_bad_lines, warn_bad_lines, on_bad_lines, delim_whitespace, low_memory, memory_map, float_precision, storage_options)\u001b[0m\n\u001b[1;32m    665\u001b[0m kwds_defaults \u001b[38;5;241m=\u001b[39m _refine_defaults_read(\n\u001b[1;32m    666\u001b[0m     dialect,\n\u001b[1;32m    667\u001b[0m     delimiter,\n\u001b[0;32m   (...)\u001b[0m\n\u001b[1;32m    676\u001b[0m     defaults\u001b[38;5;241m=\u001b[39m{\u001b[38;5;124m\"\u001b[39m\u001b[38;5;124mdelimiter\u001b[39m\u001b[38;5;124m\"\u001b[39m: \u001b[38;5;124m\"\u001b[39m\u001b[38;5;124m,\u001b[39m\u001b[38;5;124m\"\u001b[39m},\n\u001b[1;32m    677\u001b[0m )\n\u001b[1;32m    678\u001b[0m kwds\u001b[38;5;241m.\u001b[39mupdate(kwds_defaults)\n\u001b[0;32m--> 680\u001b[0m \u001b[38;5;28;01mreturn\u001b[39;00m \u001b[43m_read\u001b[49m\u001b[43m(\u001b[49m\u001b[43mfilepath_or_buffer\u001b[49m\u001b[43m,\u001b[49m\u001b[43m \u001b[49m\u001b[43mkwds\u001b[49m\u001b[43m)\u001b[49m\n",
      "File \u001b[0;32m/opt/conda/lib/python3.10/site-packages/pandas/io/parsers/readers.py:575\u001b[0m, in \u001b[0;36m_read\u001b[0;34m(filepath_or_buffer, kwds)\u001b[0m\n\u001b[1;32m    572\u001b[0m _validate_names(kwds\u001b[38;5;241m.\u001b[39mget(\u001b[38;5;124m\"\u001b[39m\u001b[38;5;124mnames\u001b[39m\u001b[38;5;124m\"\u001b[39m, \u001b[38;5;28;01mNone\u001b[39;00m))\n\u001b[1;32m    574\u001b[0m \u001b[38;5;66;03m# Create the parser.\u001b[39;00m\n\u001b[0;32m--> 575\u001b[0m parser \u001b[38;5;241m=\u001b[39m \u001b[43mTextFileReader\u001b[49m\u001b[43m(\u001b[49m\u001b[43mfilepath_or_buffer\u001b[49m\u001b[43m,\u001b[49m\u001b[43m \u001b[49m\u001b[38;5;241;43m*\u001b[39;49m\u001b[38;5;241;43m*\u001b[39;49m\u001b[43mkwds\u001b[49m\u001b[43m)\u001b[49m\n\u001b[1;32m    577\u001b[0m \u001b[38;5;28;01mif\u001b[39;00m chunksize \u001b[38;5;129;01mor\u001b[39;00m iterator:\n\u001b[1;32m    578\u001b[0m     \u001b[38;5;28;01mreturn\u001b[39;00m parser\n",
      "File \u001b[0;32m/opt/conda/lib/python3.10/site-packages/pandas/io/parsers/readers.py:934\u001b[0m, in \u001b[0;36mTextFileReader.__init__\u001b[0;34m(self, f, engine, **kwds)\u001b[0m\n\u001b[1;32m    931\u001b[0m     \u001b[38;5;28mself\u001b[39m\u001b[38;5;241m.\u001b[39moptions[\u001b[38;5;124m\"\u001b[39m\u001b[38;5;124mhas_index_names\u001b[39m\u001b[38;5;124m\"\u001b[39m] \u001b[38;5;241m=\u001b[39m kwds[\u001b[38;5;124m\"\u001b[39m\u001b[38;5;124mhas_index_names\u001b[39m\u001b[38;5;124m\"\u001b[39m]\n\u001b[1;32m    933\u001b[0m \u001b[38;5;28mself\u001b[39m\u001b[38;5;241m.\u001b[39mhandles: IOHandles \u001b[38;5;241m|\u001b[39m \u001b[38;5;28;01mNone\u001b[39;00m \u001b[38;5;241m=\u001b[39m \u001b[38;5;28;01mNone\u001b[39;00m\n\u001b[0;32m--> 934\u001b[0m \u001b[38;5;28mself\u001b[39m\u001b[38;5;241m.\u001b[39m_engine \u001b[38;5;241m=\u001b[39m \u001b[38;5;28;43mself\u001b[39;49m\u001b[38;5;241;43m.\u001b[39;49m\u001b[43m_make_engine\u001b[49m\u001b[43m(\u001b[49m\u001b[43mf\u001b[49m\u001b[43m,\u001b[49m\u001b[43m \u001b[49m\u001b[38;5;28;43mself\u001b[39;49m\u001b[38;5;241;43m.\u001b[39;49m\u001b[43mengine\u001b[49m\u001b[43m)\u001b[49m\n",
      "File \u001b[0;32m/opt/conda/lib/python3.10/site-packages/pandas/io/parsers/readers.py:1218\u001b[0m, in \u001b[0;36mTextFileReader._make_engine\u001b[0;34m(self, f, engine)\u001b[0m\n\u001b[1;32m   1214\u001b[0m     mode \u001b[38;5;241m=\u001b[39m \u001b[38;5;124m\"\u001b[39m\u001b[38;5;124mrb\u001b[39m\u001b[38;5;124m\"\u001b[39m\n\u001b[1;32m   1215\u001b[0m \u001b[38;5;66;03m# error: No overload variant of \"get_handle\" matches argument types\u001b[39;00m\n\u001b[1;32m   1216\u001b[0m \u001b[38;5;66;03m# \"Union[str, PathLike[str], ReadCsvBuffer[bytes], ReadCsvBuffer[str]]\"\u001b[39;00m\n\u001b[1;32m   1217\u001b[0m \u001b[38;5;66;03m# , \"str\", \"bool\", \"Any\", \"Any\", \"Any\", \"Any\", \"Any\"\u001b[39;00m\n\u001b[0;32m-> 1218\u001b[0m \u001b[38;5;28mself\u001b[39m\u001b[38;5;241m.\u001b[39mhandles \u001b[38;5;241m=\u001b[39m \u001b[43mget_handle\u001b[49m\u001b[43m(\u001b[49m\u001b[43m  \u001b[49m\u001b[38;5;66;43;03m# type: ignore[call-overload]\u001b[39;49;00m\n\u001b[1;32m   1219\u001b[0m \u001b[43m    \u001b[49m\u001b[43mf\u001b[49m\u001b[43m,\u001b[49m\n\u001b[1;32m   1220\u001b[0m \u001b[43m    \u001b[49m\u001b[43mmode\u001b[49m\u001b[43m,\u001b[49m\n\u001b[1;32m   1221\u001b[0m \u001b[43m    \u001b[49m\u001b[43mencoding\u001b[49m\u001b[38;5;241;43m=\u001b[39;49m\u001b[38;5;28;43mself\u001b[39;49m\u001b[38;5;241;43m.\u001b[39;49m\u001b[43moptions\u001b[49m\u001b[38;5;241;43m.\u001b[39;49m\u001b[43mget\u001b[49m\u001b[43m(\u001b[49m\u001b[38;5;124;43m\"\u001b[39;49m\u001b[38;5;124;43mencoding\u001b[39;49m\u001b[38;5;124;43m\"\u001b[39;49m\u001b[43m,\u001b[49m\u001b[43m \u001b[49m\u001b[38;5;28;43;01mNone\u001b[39;49;00m\u001b[43m)\u001b[49m\u001b[43m,\u001b[49m\n\u001b[1;32m   1222\u001b[0m \u001b[43m    \u001b[49m\u001b[43mcompression\u001b[49m\u001b[38;5;241;43m=\u001b[39;49m\u001b[38;5;28;43mself\u001b[39;49m\u001b[38;5;241;43m.\u001b[39;49m\u001b[43moptions\u001b[49m\u001b[38;5;241;43m.\u001b[39;49m\u001b[43mget\u001b[49m\u001b[43m(\u001b[49m\u001b[38;5;124;43m\"\u001b[39;49m\u001b[38;5;124;43mcompression\u001b[39;49m\u001b[38;5;124;43m\"\u001b[39;49m\u001b[43m,\u001b[49m\u001b[43m \u001b[49m\u001b[38;5;28;43;01mNone\u001b[39;49;00m\u001b[43m)\u001b[49m\u001b[43m,\u001b[49m\n\u001b[1;32m   1223\u001b[0m \u001b[43m    \u001b[49m\u001b[43mmemory_map\u001b[49m\u001b[38;5;241;43m=\u001b[39;49m\u001b[38;5;28;43mself\u001b[39;49m\u001b[38;5;241;43m.\u001b[39;49m\u001b[43moptions\u001b[49m\u001b[38;5;241;43m.\u001b[39;49m\u001b[43mget\u001b[49m\u001b[43m(\u001b[49m\u001b[38;5;124;43m\"\u001b[39;49m\u001b[38;5;124;43mmemory_map\u001b[39;49m\u001b[38;5;124;43m\"\u001b[39;49m\u001b[43m,\u001b[49m\u001b[43m \u001b[49m\u001b[38;5;28;43;01mFalse\u001b[39;49;00m\u001b[43m)\u001b[49m\u001b[43m,\u001b[49m\n\u001b[1;32m   1224\u001b[0m \u001b[43m    \u001b[49m\u001b[43mis_text\u001b[49m\u001b[38;5;241;43m=\u001b[39;49m\u001b[43mis_text\u001b[49m\u001b[43m,\u001b[49m\n\u001b[1;32m   1225\u001b[0m \u001b[43m    \u001b[49m\u001b[43merrors\u001b[49m\u001b[38;5;241;43m=\u001b[39;49m\u001b[38;5;28;43mself\u001b[39;49m\u001b[38;5;241;43m.\u001b[39;49m\u001b[43moptions\u001b[49m\u001b[38;5;241;43m.\u001b[39;49m\u001b[43mget\u001b[49m\u001b[43m(\u001b[49m\u001b[38;5;124;43m\"\u001b[39;49m\u001b[38;5;124;43mencoding_errors\u001b[39;49m\u001b[38;5;124;43m\"\u001b[39;49m\u001b[43m,\u001b[49m\u001b[43m \u001b[49m\u001b[38;5;124;43m\"\u001b[39;49m\u001b[38;5;124;43mstrict\u001b[39;49m\u001b[38;5;124;43m\"\u001b[39;49m\u001b[43m)\u001b[49m\u001b[43m,\u001b[49m\n\u001b[1;32m   1226\u001b[0m \u001b[43m    \u001b[49m\u001b[43mstorage_options\u001b[49m\u001b[38;5;241;43m=\u001b[39;49m\u001b[38;5;28;43mself\u001b[39;49m\u001b[38;5;241;43m.\u001b[39;49m\u001b[43moptions\u001b[49m\u001b[38;5;241;43m.\u001b[39;49m\u001b[43mget\u001b[49m\u001b[43m(\u001b[49m\u001b[38;5;124;43m\"\u001b[39;49m\u001b[38;5;124;43mstorage_options\u001b[39;49m\u001b[38;5;124;43m\"\u001b[39;49m\u001b[43m,\u001b[49m\u001b[43m \u001b[49m\u001b[38;5;28;43;01mNone\u001b[39;49;00m\u001b[43m)\u001b[49m\u001b[43m,\u001b[49m\n\u001b[1;32m   1227\u001b[0m \u001b[43m\u001b[49m\u001b[43m)\u001b[49m\n\u001b[1;32m   1228\u001b[0m \u001b[38;5;28;01massert\u001b[39;00m \u001b[38;5;28mself\u001b[39m\u001b[38;5;241m.\u001b[39mhandles \u001b[38;5;129;01mis\u001b[39;00m \u001b[38;5;129;01mnot\u001b[39;00m \u001b[38;5;28;01mNone\u001b[39;00m\n\u001b[1;32m   1229\u001b[0m f \u001b[38;5;241m=\u001b[39m \u001b[38;5;28mself\u001b[39m\u001b[38;5;241m.\u001b[39mhandles\u001b[38;5;241m.\u001b[39mhandle\n",
      "File \u001b[0;32m/opt/conda/lib/python3.10/site-packages/pandas/io/common.py:711\u001b[0m, in \u001b[0;36mget_handle\u001b[0;34m(path_or_buf, mode, encoding, compression, memory_map, is_text, errors, storage_options)\u001b[0m\n\u001b[1;32m    708\u001b[0m     \u001b[38;5;28;01massert\u001b[39;00m \u001b[38;5;28misinstance\u001b[39m(handle, \u001b[38;5;28mstr\u001b[39m)\n\u001b[1;32m    709\u001b[0m     \u001b[38;5;66;03m# error: Incompatible types in assignment (expression has type\u001b[39;00m\n\u001b[1;32m    710\u001b[0m     \u001b[38;5;66;03m# \"GzipFile\", variable has type \"Union[str, BaseBuffer]\")\u001b[39;00m\n\u001b[0;32m--> 711\u001b[0m     handle \u001b[38;5;241m=\u001b[39m \u001b[43mgzip\u001b[49m\u001b[38;5;241;43m.\u001b[39;49m\u001b[43mGzipFile\u001b[49m\u001b[43m(\u001b[49m\u001b[43m  \u001b[49m\u001b[38;5;66;43;03m# type: ignore[assignment]\u001b[39;49;00m\n\u001b[1;32m    712\u001b[0m \u001b[43m        \u001b[49m\u001b[43mfilename\u001b[49m\u001b[38;5;241;43m=\u001b[39;49m\u001b[43mhandle\u001b[49m\u001b[43m,\u001b[49m\n\u001b[1;32m    713\u001b[0m \u001b[43m        \u001b[49m\u001b[43mmode\u001b[49m\u001b[38;5;241;43m=\u001b[39;49m\u001b[43mioargs\u001b[49m\u001b[38;5;241;43m.\u001b[39;49m\u001b[43mmode\u001b[49m\u001b[43m,\u001b[49m\n\u001b[1;32m    714\u001b[0m \u001b[43m        \u001b[49m\u001b[38;5;241;43m*\u001b[39;49m\u001b[38;5;241;43m*\u001b[39;49m\u001b[43mcompression_args\u001b[49m\u001b[43m,\u001b[49m\n\u001b[1;32m    715\u001b[0m \u001b[43m    \u001b[49m\u001b[43m)\u001b[49m\n\u001b[1;32m    716\u001b[0m \u001b[38;5;28;01melse\u001b[39;00m:\n\u001b[1;32m    717\u001b[0m     handle \u001b[38;5;241m=\u001b[39m gzip\u001b[38;5;241m.\u001b[39mGzipFile(\n\u001b[1;32m    718\u001b[0m         \u001b[38;5;66;03m# No overload variant of \"GzipFile\" matches argument types\u001b[39;00m\n\u001b[1;32m    719\u001b[0m         \u001b[38;5;66;03m# \"Union[str, BaseBuffer]\", \"str\", \"Dict[str, Any]\"\u001b[39;00m\n\u001b[0;32m   (...)\u001b[0m\n\u001b[1;32m    722\u001b[0m         \u001b[38;5;241m*\u001b[39m\u001b[38;5;241m*\u001b[39mcompression_args,\n\u001b[1;32m    723\u001b[0m     )\n",
      "File \u001b[0;32m/opt/conda/lib/python3.10/gzip.py:174\u001b[0m, in \u001b[0;36mGzipFile.__init__\u001b[0;34m(self, filename, mode, compresslevel, fileobj, mtime)\u001b[0m\n\u001b[1;32m    172\u001b[0m     mode \u001b[38;5;241m+\u001b[39m\u001b[38;5;241m=\u001b[39m \u001b[38;5;124m'\u001b[39m\u001b[38;5;124mb\u001b[39m\u001b[38;5;124m'\u001b[39m\n\u001b[1;32m    173\u001b[0m \u001b[38;5;28;01mif\u001b[39;00m fileobj \u001b[38;5;129;01mis\u001b[39;00m \u001b[38;5;28;01mNone\u001b[39;00m:\n\u001b[0;32m--> 174\u001b[0m     fileobj \u001b[38;5;241m=\u001b[39m \u001b[38;5;28mself\u001b[39m\u001b[38;5;241m.\u001b[39mmyfileobj \u001b[38;5;241m=\u001b[39m \u001b[43mbuiltins\u001b[49m\u001b[38;5;241;43m.\u001b[39;49m\u001b[43mopen\u001b[49m\u001b[43m(\u001b[49m\u001b[43mfilename\u001b[49m\u001b[43m,\u001b[49m\u001b[43m \u001b[49m\u001b[43mmode\u001b[49m\u001b[43m \u001b[49m\u001b[38;5;129;43;01mor\u001b[39;49;00m\u001b[43m \u001b[49m\u001b[38;5;124;43m'\u001b[39;49m\u001b[38;5;124;43mrb\u001b[39;49m\u001b[38;5;124;43m'\u001b[39;49m\u001b[43m)\u001b[49m\n\u001b[1;32m    175\u001b[0m \u001b[38;5;28;01mif\u001b[39;00m filename \u001b[38;5;129;01mis\u001b[39;00m \u001b[38;5;28;01mNone\u001b[39;00m:\n\u001b[1;32m    176\u001b[0m     filename \u001b[38;5;241m=\u001b[39m \u001b[38;5;28mgetattr\u001b[39m(fileobj, \u001b[38;5;124m'\u001b[39m\u001b[38;5;124mname\u001b[39m\u001b[38;5;124m'\u001b[39m, \u001b[38;5;124m'\u001b[39m\u001b[38;5;124m'\u001b[39m)\n",
      "\u001b[0;31mFileNotFoundError\u001b[0m: [Errno 2] No such file or directory: 'agents.csv.gz'"
     ]
    }
   ],
   "source": [
    "#agents = pd.read_csv('agents.csv.gz', compression='gzip', \n",
    "                                 header=0, sep=',', quotechar='\"')\n",
    "\n",
    "#agents.head(5)"
   ]
  },
  {
   "cell_type": "code",
   "execution_count": 3,
   "id": "992ec713",
   "metadata": {},
   "outputs": [
    {
     "data": {
      "text/html": [
       "<div>\n",
       "<style scoped>\n",
       "    .dataframe tbody tr th:only-of-type {\n",
       "        vertical-align: middle;\n",
       "    }\n",
       "\n",
       "    .dataframe tbody tr th {\n",
       "        vertical-align: top;\n",
       "    }\n",
       "\n",
       "    .dataframe thead th {\n",
       "        text-align: right;\n",
       "    }\n",
       "</style>\n",
       "<table border=\"1\" class=\"dataframe\">\n",
       "  <thead>\n",
       "    <tr style=\"text-align: right;\">\n",
       "      <th></th>\n",
       "      <th>id</th>\n",
       "      <th>source</th>\n",
       "      <th>type</th>\n",
       "      <th>state</th>\n",
       "      <th>priority</th>\n",
       "      <th>gravity</th>\n",
       "      <th>class</th>\n",
       "      <th>object</th>\n",
       "      <th>latitude</th>\n",
       "      <th>longitude</th>\n",
       "      <th>location</th>\n",
       "      <th>broker_id</th>\n",
       "      <th>implicated</th>\n",
       "      <th>address</th>\n",
       "      <th>zone_id</th>\n",
       "      <th>orient</th>\n",
       "      <th>incident_time</th>\n",
       "    </tr>\n",
       "  </thead>\n",
       "  <tbody>\n",
       "    <tr>\n",
       "      <th>0</th>\n",
       "      <td>10667</td>\n",
       "      <td>NUSE</td>\n",
       "      <td>Choque</td>\n",
       "      <td>Cerrado</td>\n",
       "      <td>2.0</td>\n",
       "      <td>Con lesionado</td>\n",
       "      <td>Siniestro</td>\n",
       "      <td>NaN</td>\n",
       "      <td>4.600568</td>\n",
       "      <td>-74.178246</td>\n",
       "      <td>BOSA</td>\n",
       "      <td>NaN</td>\n",
       "      <td>2.0</td>\n",
       "      <td>Calle 59 SUR Carrera 77K BIS A</td>\n",
       "      <td>Zona 2</td>\n",
       "      <td>Oriente - Occidente</td>\n",
       "      <td>2021-12-31 23:40:00</td>\n",
       "    </tr>\n",
       "    <tr>\n",
       "      <th>1</th>\n",
       "      <td>10668</td>\n",
       "      <td>NUSE</td>\n",
       "      <td>Choque</td>\n",
       "      <td>Cerrado</td>\n",
       "      <td>2.0</td>\n",
       "      <td>Con lesionado</td>\n",
       "      <td>Siniestro</td>\n",
       "      <td>NaN</td>\n",
       "      <td>4.619570</td>\n",
       "      <td>-74.139442</td>\n",
       "      <td>KENNEDY</td>\n",
       "      <td>Av Boyacá NS</td>\n",
       "      <td>2.0</td>\n",
       "      <td>Av. Boyacá  Calle 15F SUR</td>\n",
       "      <td>Zona 2</td>\n",
       "      <td>Norte - sur</td>\n",
       "      <td>2021-12-31 11:38:00</td>\n",
       "    </tr>\n",
       "    <tr>\n",
       "      <th>2</th>\n",
       "      <td>10669</td>\n",
       "      <td>NUSE</td>\n",
       "      <td>Choque</td>\n",
       "      <td>Cerrado</td>\n",
       "      <td>2.0</td>\n",
       "      <td>Con lesionado</td>\n",
       "      <td>Siniestro</td>\n",
       "      <td>NaN</td>\n",
       "      <td>4.539066</td>\n",
       "      <td>-74.135452</td>\n",
       "      <td>CIUDAD BOLIVAR</td>\n",
       "      <td>NaN</td>\n",
       "      <td>2.0</td>\n",
       "      <td>Calle 76A SUR Carrera 15</td>\n",
       "      <td>Zona 2</td>\n",
       "      <td>Oriente - Occidente</td>\n",
       "      <td>2022-01-01 00:20:00</td>\n",
       "    </tr>\n",
       "    <tr>\n",
       "      <th>3</th>\n",
       "      <td>10670</td>\n",
       "      <td>NUSE</td>\n",
       "      <td>Choque</td>\n",
       "      <td>Cerrado</td>\n",
       "      <td>2.0</td>\n",
       "      <td>Con lesionado</td>\n",
       "      <td>Siniestro</td>\n",
       "      <td>NaN</td>\n",
       "      <td>4.586573</td>\n",
       "      <td>-74.107651</td>\n",
       "      <td>RAFAEL URIBE URIBE</td>\n",
       "      <td>NaN</td>\n",
       "      <td>2.0</td>\n",
       "      <td>Calle 23 SUR Carrera 24G</td>\n",
       "      <td>Zona 2</td>\n",
       "      <td>Occidente - Oriente</td>\n",
       "      <td>2022-01-01 00:28:00</td>\n",
       "    </tr>\n",
       "    <tr>\n",
       "      <th>4</th>\n",
       "      <td>10671</td>\n",
       "      <td>NUSE</td>\n",
       "      <td>Autolesiones</td>\n",
       "      <td>Cerrado</td>\n",
       "      <td>2.0</td>\n",
       "      <td>Con lesionado</td>\n",
       "      <td>Siniestro</td>\n",
       "      <td>NaN</td>\n",
       "      <td>4.595927</td>\n",
       "      <td>-74.165718</td>\n",
       "      <td>BOSA</td>\n",
       "      <td>Autopista sur NS</td>\n",
       "      <td>1.0</td>\n",
       "      <td>Autosur  Carrera 72D</td>\n",
       "      <td>Zona 2</td>\n",
       "      <td>Oriente - Occidente</td>\n",
       "      <td>2022-01-01 00:30:00</td>\n",
       "    </tr>\n",
       "  </tbody>\n",
       "</table>\n",
       "</div>"
      ],
      "text/plain": [
       "      id source          type    state  priority        gravity      class  \\\n",
       "0  10667   NUSE        Choque  Cerrado       2.0  Con lesionado  Siniestro   \n",
       "1  10668   NUSE        Choque  Cerrado       2.0  Con lesionado  Siniestro   \n",
       "2  10669   NUSE        Choque  Cerrado       2.0  Con lesionado  Siniestro   \n",
       "3  10670   NUSE        Choque  Cerrado       2.0  Con lesionado  Siniestro   \n",
       "4  10671   NUSE  Autolesiones  Cerrado       2.0  Con lesionado  Siniestro   \n",
       "\n",
       "  object  latitude  longitude            location         broker_id  \\\n",
       "0    NaN  4.600568 -74.178246                BOSA               NaN   \n",
       "1    NaN  4.619570 -74.139442             KENNEDY      Av Boyacá NS   \n",
       "2    NaN  4.539066 -74.135452      CIUDAD BOLIVAR               NaN   \n",
       "3    NaN  4.586573 -74.107651  RAFAEL URIBE URIBE               NaN   \n",
       "4    NaN  4.595927 -74.165718                BOSA  Autopista sur NS   \n",
       "\n",
       "   implicated                         address zone_id               orient  \\\n",
       "0         2.0  Calle 59 SUR Carrera 77K BIS A  Zona 2  Oriente - Occidente   \n",
       "1         2.0       Av. Boyacá  Calle 15F SUR  Zona 2          Norte - sur   \n",
       "2         2.0        Calle 76A SUR Carrera 15  Zona 2  Oriente - Occidente   \n",
       "3         2.0        Calle 23 SUR Carrera 24G  Zona 2  Occidente - Oriente   \n",
       "4         1.0            Autosur  Carrera 72D  Zona 2  Oriente - Occidente   \n",
       "\n",
       "        incident_time  \n",
       "0 2021-12-31 23:40:00  \n",
       "1 2021-12-31 11:38:00  \n",
       "2 2022-01-01 00:20:00  \n",
       "3 2022-01-01 00:28:00  \n",
       "4 2022-01-01 00:30:00  "
      ]
     },
     "execution_count": 3,
     "metadata": {},
     "output_type": "execute_result"
    }
   ],
   "source": [
    "incidents = pd.read_csv(\"../0_datasets/processed/incidents.csv.gz\", parse_dates=[\"incident_time\"])\n",
    "\n",
    "incidents = incidents[incidents[\"class\"] == \"Siniestro\"]\n",
    "\n",
    "incidents.head(5)\n"
   ]
  },
  {
   "cell_type": "markdown",
   "id": "99f63b64",
   "metadata": {},
   "source": [
    "***Paso 2:*** Limpiar la data"
   ]
  },
  {
   "cell_type": "code",
   "execution_count": null,
   "id": "6dce2761",
   "metadata": {},
   "outputs": [],
   "source": [
    "camposNaN = pd.Series(incidents.isna().any())\n",
    "camposNaN = camposNaN[camposNaN != False].index\n",
    "\n",
    "print(camposNaN)\n",
    "\n",
    "#Estrategia de limpieza 1: DropNA / Rechazado, pasa de 114260 registros a 314.\n",
    "#incidents.dropna(inplace=True)\n",
    "\n",
    "#Estrategia de limpieza 2: Interpolación / Verificar"
   ]
  },
  {
   "cell_type": "markdown",
   "id": "87619cdc",
   "metadata": {},
   "source": [
    "***Paso 3:*** Feature Engineering"
   ]
  },
  {
   "cell_type": "code",
   "execution_count": null,
   "id": "0ac42984",
   "metadata": {},
   "outputs": [],
   "source": [
    "incidents[\"hour\"] = pd.to_datetime(incidents[\"incident_time\"]).dt.hour"
   ]
  },
  {
   "cell_type": "code",
   "execution_count": null,
   "id": "2e5135d4",
   "metadata": {},
   "outputs": [],
   "source": [
    "agents[\"hour\"] = pd.to_datetime(agents[\"time_stamp\"]).dt.hour"
   ]
  },
  {
   "cell_type": "markdown",
   "id": "4cf16742",
   "metadata": {},
   "source": [
    "***Paso 4:*** Generación de indicadores"
   ]
  },
  {
   "cell_type": "code",
   "execution_count": null,
   "id": "1c934532",
   "metadata": {
    "scrolled": true
   },
   "outputs": [],
   "source": [
    "#El mayor tipo de accidente\n",
    "s = incidents[\"type\"].value_counts()\n",
    "s\n",
    "\n",
    "print(\"La mayor clase de incidentes que se presentan son de tipo '\"+str(s.index[0])+\"' con un total de \"+str(s[0]))\n"
   ]
  },
  {
   "cell_type": "code",
   "execution_count": null,
   "id": "75f30f90",
   "metadata": {},
   "outputs": [],
   "source": [
    "s = incidents[[\"type\",\"location\"]].value_counts()\n",
    "#print(str(s.index[17])+\"|\"+str(s[17]))\n",
    "#print(str(s.index[18])+\"|\"+str(s[18]))\n",
    "#print(str(s.index[19])+\"|\"+str(s[19]))\n",
    "\n",
    "if(s.index[0][0] == s.index[1][0]):\n",
    "    print(\"El mayor tipo de accidente que se presenta es de '\"+str(s.index[0][0])+\"', y las localidades con la mayor cantidad de este tipo de incidente son '\"+str(s.index[0][1])+\"' y '\"+s.index[1][1]+\"', con un total de '\"+str(s[0])+\"' y '\"+str(s[1])+\"' respectivamente.\")\n",
    "else:\n",
    "    print(\"Los mayores tipos de accidente que se presentan son '\"+str(s.index[0][0])+\"' y '\"+str(s.index[1][0])+\"' en las localidades de '\"+str(s.index[0][1])+\"' y '\"+s.index[1][1]+\"'\")"
   ]
  },
  {
   "cell_type": "code",
   "execution_count": null,
   "id": "5257e289",
   "metadata": {},
   "outputs": [],
   "source": [
    "#Las localidalides con mayor cantidad de accidentes\n",
    "incidents[\"location\"].value_counts()"
   ]
  },
  {
   "cell_type": "code",
   "execution_count": null,
   "id": "0c761aa9",
   "metadata": {},
   "outputs": [],
   "source": [
    "#El mayor tipo de accidente por zona\n",
    "def mayor_tipo_accidente_por_zona():\n",
    "    s = incidents[[\"type\",\"location\"]].value_counts()\n",
    "    df = pd.DataFrame(s)\n",
    "    df.reset_index(inplace = True)\n",
    "    return df[df[\"type\"] == \"Autolesiones\"],\"Esto es un insight\"\n",
    "mayor_tipo_accidente_por_zona()"
   ]
  },
  {
   "cell_type": "code",
   "execution_count": null,
   "id": "fe713a4f",
   "metadata": {},
   "outputs": [],
   "source": [
    "#El mayor tipo de accidente por hora\n",
    "incidents[[\"hour\",\"type\"]].value_counts().sort_values().sort_index(kind='mergesort')"
   ]
  },
  {
   "cell_type": "code",
   "execution_count": null,
   "id": "74b27700",
   "metadata": {},
   "outputs": [],
   "source": [
    "#Zonas con mayor accidentalidad por hora\n",
    "incidents[[\"location\",\"hour\"]].value_counts().sort_values().sort_index(kind='mergesort')"
   ]
  },
  {
   "cell_type": "code",
   "execution_count": null,
   "id": "36e5fd10",
   "metadata": {},
   "outputs": [],
   "source": [
    "#Extraer las localidades con mayor presencia de agentes por hora\n",
    "agents[[\"localidad\",\"hour\"]].value_counts().sort_values().sort_index(kind='mergesort')"
   ]
  }
 ],
 "metadata": {
  "kernelspec": {
   "display_name": "Python 3 (ipykernel)",
   "language": "python",
   "name": "python3"
  },
  "language_info": {
   "codemirror_mode": {
    "name": "ipython",
    "version": 3
   },
   "file_extension": ".py",
   "mimetype": "text/x-python",
   "name": "python",
   "nbconvert_exporter": "python",
   "pygments_lexer": "ipython3",
   "version": "3.10.5"
  }
 },
 "nbformat": 4,
 "nbformat_minor": 5
}
