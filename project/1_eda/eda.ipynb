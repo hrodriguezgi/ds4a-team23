{
 "cells": [
  {
   "cell_type": "code",
   "execution_count": 2,
   "metadata": {},
   "outputs": [],
   "source": [
    "import pandas as pd\n",
    "import numpy"
   ]
  },
  {
   "cell_type": "markdown",
   "metadata": {},
   "source": [
    "# 1. Dataset: Histórico de Siniestros Bogotá\n",
    "\n",
    "This dataset can be downloaded from [Datos Abiertos Bogotá](https://datosabiertos.bogota.gov.co/dataset/8624f916-1db2-4c17-b669-19a19b35d1ca)"
   ]
  },
  {
   "cell_type": "code",
   "execution_count": 3,
   "metadata": {},
   "outputs": [
    {
     "data": {
      "text/html": [
       "<div>\n",
       "<style scoped>\n",
       "    .dataframe tbody tr th:only-of-type {\n",
       "        vertical-align: middle;\n",
       "    }\n",
       "\n",
       "    .dataframe tbody tr th {\n",
       "        vertical-align: top;\n",
       "    }\n",
       "\n",
       "    .dataframe thead th {\n",
       "        text-align: right;\n",
       "    }\n",
       "</style>\n",
       "<table border=\"1\" class=\"dataframe\">\n",
       "  <thead>\n",
       "    <tr style=\"text-align: right;\">\n",
       "      <th></th>\n",
       "      <th>X</th>\n",
       "      <th>Y</th>\n",
       "      <th>OBJECTID</th>\n",
       "      <th>FORMULARIO</th>\n",
       "      <th>CODIGO_ACCIDENTE</th>\n",
       "      <th>FECHA_OCURRENCIA_ACC</th>\n",
       "      <th>ANO_OCURRENCIA_ACC</th>\n",
       "      <th>DIRECCION</th>\n",
       "      <th>GRAVEDAD</th>\n",
       "      <th>CLASE_ACC</th>\n",
       "      <th>LOCALIDAD</th>\n",
       "      <th>FECHA_HORA_ACC</th>\n",
       "      <th>LATITUD</th>\n",
       "      <th>LONGITUD</th>\n",
       "      <th>CIV</th>\n",
       "      <th>PK_CALZADA</th>\n",
       "    </tr>\n",
       "  </thead>\n",
       "  <tbody>\n",
       "    <tr>\n",
       "      <th>0</th>\n",
       "      <td>-74.090924</td>\n",
       "      <td>4.693807</td>\n",
       "      <td>1</td>\n",
       "      <td>A000640275</td>\n",
       "      <td>4484660</td>\n",
       "      <td>2017/06/12 00:00:00+00</td>\n",
       "      <td>2017</td>\n",
       "      <td>AV AVENIDA BOYACA-CL 79 02</td>\n",
       "      <td>SOLO DANOS</td>\n",
       "      <td>CHOQUE</td>\n",
       "      <td>ENGATIVA</td>\n",
       "      <td>2017/06/12 05:30:00+00</td>\n",
       "      <td>4.693807</td>\n",
       "      <td>-74.090924</td>\n",
       "      <td>10006772.0</td>\n",
       "      <td>221236.0</td>\n",
       "    </tr>\n",
       "    <tr>\n",
       "      <th>1</th>\n",
       "      <td>-74.121000</td>\n",
       "      <td>4.603000</td>\n",
       "      <td>2</td>\n",
       "      <td>A001233353</td>\n",
       "      <td>10533499</td>\n",
       "      <td>2020/11/19 00:00:00+00</td>\n",
       "      <td>2020</td>\n",
       "      <td>CL 26 S- KR 50 02</td>\n",
       "      <td>CON HERIDOS</td>\n",
       "      <td>OTRO</td>\n",
       "      <td>PUENTE ARANDA</td>\n",
       "      <td>2020/11/19 02:05:00+00</td>\n",
       "      <td>4.603000</td>\n",
       "      <td>-74.121000</td>\n",
       "      <td>16004560.0</td>\n",
       "      <td>NaN</td>\n",
       "    </tr>\n",
       "    <tr>\n",
       "      <th>2</th>\n",
       "      <td>-74.042000</td>\n",
       "      <td>4.682000</td>\n",
       "      <td>4</td>\n",
       "      <td>A001232786</td>\n",
       "      <td>10533629</td>\n",
       "      <td>2020/11/10 00:00:00+00</td>\n",
       "      <td>2020</td>\n",
       "      <td>KR 9 - CL 100 02</td>\n",
       "      <td>SOLO DANOS</td>\n",
       "      <td>CHOQUE</td>\n",
       "      <td>USAQUEN</td>\n",
       "      <td>2020/11/10 13:30:00+00</td>\n",
       "      <td>4.682000</td>\n",
       "      <td>-74.042000</td>\n",
       "      <td>30001107.0</td>\n",
       "      <td>NaN</td>\n",
       "    </tr>\n",
       "    <tr>\n",
       "      <th>3</th>\n",
       "      <td>-74.166937</td>\n",
       "      <td>4.587187</td>\n",
       "      <td>7</td>\n",
       "      <td>A000200705</td>\n",
       "      <td>4412699</td>\n",
       "      <td>2015/05/11 00:00:00+00</td>\n",
       "      <td>2015</td>\n",
       "      <td>CL 63A-KR 72 S 02</td>\n",
       "      <td>SOLO DANOS</td>\n",
       "      <td>CHOQUE</td>\n",
       "      <td>CIUDAD BOLIVAR</td>\n",
       "      <td>2015/05/11 10:50:00+00</td>\n",
       "      <td>4.587187</td>\n",
       "      <td>-74.166937</td>\n",
       "      <td>19001483.0</td>\n",
       "      <td>136166.0</td>\n",
       "    </tr>\n",
       "    <tr>\n",
       "      <th>4</th>\n",
       "      <td>-74.092901</td>\n",
       "      <td>4.607648</td>\n",
       "      <td>8</td>\n",
       "      <td>A000402862</td>\n",
       "      <td>4447845</td>\n",
       "      <td>2016/06/08 00:00:00+00</td>\n",
       "      <td>2016</td>\n",
       "      <td>KR 27-CL 9 14</td>\n",
       "      <td>SOLO DANOS</td>\n",
       "      <td>CHOQUE</td>\n",
       "      <td>LOS MARTIRES</td>\n",
       "      <td>2016/06/08 21:30:00+00</td>\n",
       "      <td>4.607648</td>\n",
       "      <td>-74.092901</td>\n",
       "      <td>14000548.0</td>\n",
       "      <td>239719.0</td>\n",
       "    </tr>\n",
       "  </tbody>\n",
       "</table>\n",
       "</div>"
      ],
      "text/plain": [
       "           X         Y  OBJECTID  FORMULARIO  CODIGO_ACCIDENTE  \\\n",
       "0 -74.090924  4.693807         1  A000640275           4484660   \n",
       "1 -74.121000  4.603000         2  A001233353          10533499   \n",
       "2 -74.042000  4.682000         4  A001232786          10533629   \n",
       "3 -74.166937  4.587187         7  A000200705           4412699   \n",
       "4 -74.092901  4.607648         8  A000402862           4447845   \n",
       "\n",
       "     FECHA_OCURRENCIA_ACC  ANO_OCURRENCIA_ACC                   DIRECCION  \\\n",
       "0  2017/06/12 00:00:00+00                2017  AV AVENIDA BOYACA-CL 79 02   \n",
       "1  2020/11/19 00:00:00+00                2020           CL 26 S- KR 50 02   \n",
       "2  2020/11/10 00:00:00+00                2020            KR 9 - CL 100 02   \n",
       "3  2015/05/11 00:00:00+00                2015           CL 63A-KR 72 S 02   \n",
       "4  2016/06/08 00:00:00+00                2016               KR 27-CL 9 14   \n",
       "\n",
       "      GRAVEDAD CLASE_ACC       LOCALIDAD          FECHA_HORA_ACC   LATITUD  \\\n",
       "0   SOLO DANOS    CHOQUE        ENGATIVA  2017/06/12 05:30:00+00  4.693807   \n",
       "1  CON HERIDOS      OTRO   PUENTE ARANDA  2020/11/19 02:05:00+00  4.603000   \n",
       "2   SOLO DANOS    CHOQUE         USAQUEN  2020/11/10 13:30:00+00  4.682000   \n",
       "3   SOLO DANOS    CHOQUE  CIUDAD BOLIVAR  2015/05/11 10:50:00+00  4.587187   \n",
       "4   SOLO DANOS    CHOQUE    LOS MARTIRES  2016/06/08 21:30:00+00  4.607648   \n",
       "\n",
       "    LONGITUD         CIV  PK_CALZADA  \n",
       "0 -74.090924  10006772.0    221236.0  \n",
       "1 -74.121000  16004560.0         NaN  \n",
       "2 -74.042000  30001107.0         NaN  \n",
       "3 -74.166937  19001483.0    136166.0  \n",
       "4 -74.092901  14000548.0    239719.0  "
      ]
     },
     "execution_count": 3,
     "metadata": {},
     "output_type": "execute_result"
    }
   ],
   "source": [
    "hist_siniestros = pd.read_csv('../0 - datasets/historico_siniestros_bogota_d.c_-.csv')\n",
    "hist_siniestros.head()"
   ]
  },
  {
   "cell_type": "markdown",
   "metadata": {},
   "source": [
    "## Dataset Description \n",
    "\n",
    "The following result shows how many records has the dataset, and which fields has missing values"
   ]
  },
  {
   "cell_type": "code",
   "execution_count": 4,
   "metadata": {},
   "outputs": [
    {
     "name": "stdout",
     "output_type": "stream",
     "text": [
      "<class 'pandas.core.frame.DataFrame'>\n",
      "RangeIndex: 199146 entries, 0 to 199145\n",
      "Data columns (total 16 columns):\n",
      " #   Column                Non-Null Count   Dtype  \n",
      "---  ------                --------------   -----  \n",
      " 0   X                     199146 non-null  float64\n",
      " 1   Y                     199146 non-null  float64\n",
      " 2   OBJECTID              199146 non-null  int64  \n",
      " 3   FORMULARIO            199146 non-null  object \n",
      " 4   CODIGO_ACCIDENTE      199146 non-null  int64  \n",
      " 5   FECHA_OCURRENCIA_ACC  199146 non-null  object \n",
      " 6   ANO_OCURRENCIA_ACC    199146 non-null  int64  \n",
      " 7   DIRECCION             199146 non-null  object \n",
      " 8   GRAVEDAD              199146 non-null  object \n",
      " 9   CLASE_ACC             199146 non-null  object \n",
      " 10  LOCALIDAD             199100 non-null  object \n",
      " 11  FECHA_HORA_ACC        199146 non-null  object \n",
      " 12  LATITUD               199146 non-null  float64\n",
      " 13  LONGITUD              199146 non-null  float64\n",
      " 14  CIV                   197445 non-null  float64\n",
      " 15  PK_CALZADA            161172 non-null  float64\n",
      "dtypes: float64(6), int64(3), object(7)\n",
      "memory usage: 24.3+ MB\n"
     ]
    }
   ],
   "source": [
    "hist_siniestros.info()"
   ]
  },
  {
   "cell_type": "markdown",
   "metadata": {},
   "source": [
    "It's possible to identify that `LOCALIDAD`, `CIV` and `PK_CALZADA` has missing values. But this dataset has not missing values for `LATITUD`, `LONGITUD` and `DIRECCION` fields. So we can identify which `LOCALIDAD` would be in each accident record."
   ]
  },
  {
   "cell_type": "markdown",
   "metadata": {},
   "source": [
    "Visualizing the information about the `LOCALIDAD` field, when it is `null` over time and comparing it with all the accidents, we have:"
   ]
  },
  {
   "cell_type": "code",
   "execution_count": 5,
   "metadata": {},
   "outputs": [
    {
     "data": {
      "text/html": [
       "<div>\n",
       "<style scoped>\n",
       "    .dataframe tbody tr th:only-of-type {\n",
       "        vertical-align: middle;\n",
       "    }\n",
       "\n",
       "    .dataframe tbody tr th {\n",
       "        vertical-align: top;\n",
       "    }\n",
       "\n",
       "    .dataframe thead th {\n",
       "        text-align: right;\n",
       "    }\n",
       "</style>\n",
       "<table border=\"1\" class=\"dataframe\">\n",
       "  <thead>\n",
       "    <tr style=\"text-align: right;\">\n",
       "      <th></th>\n",
       "      <th>TOTAL_ACCIDENTS</th>\n",
       "      <th>NULL_ACCIDENTS</th>\n",
       "      <th>PORCENTAJE</th>\n",
       "    </tr>\n",
       "    <tr>\n",
       "      <th>ANO_OCURRENCIA_ACC</th>\n",
       "      <th></th>\n",
       "      <th></th>\n",
       "      <th></th>\n",
       "    </tr>\n",
       "  </thead>\n",
       "  <tbody>\n",
       "    <tr>\n",
       "      <th>2015</th>\n",
       "      <td>27885</td>\n",
       "      <td>7</td>\n",
       "      <td>0.025103</td>\n",
       "    </tr>\n",
       "    <tr>\n",
       "      <th>2016</th>\n",
       "      <td>31928</td>\n",
       "      <td>10</td>\n",
       "      <td>0.031320</td>\n",
       "    </tr>\n",
       "    <tr>\n",
       "      <th>2017</th>\n",
       "      <td>32415</td>\n",
       "      <td>6</td>\n",
       "      <td>0.018510</td>\n",
       "    </tr>\n",
       "    <tr>\n",
       "      <th>2018</th>\n",
       "      <td>33418</td>\n",
       "      <td>15</td>\n",
       "      <td>0.044886</td>\n",
       "    </tr>\n",
       "    <tr>\n",
       "      <th>2019</th>\n",
       "      <td>32962</td>\n",
       "      <td>2</td>\n",
       "      <td>0.006068</td>\n",
       "    </tr>\n",
       "    <tr>\n",
       "      <th>2021</th>\n",
       "      <td>18114</td>\n",
       "      <td>6</td>\n",
       "      <td>0.033124</td>\n",
       "    </tr>\n",
       "  </tbody>\n",
       "</table>\n",
       "</div>"
      ],
      "text/plain": [
       "                    TOTAL_ACCIDENTS  NULL_ACCIDENTS  PORCENTAJE\n",
       "ANO_OCURRENCIA_ACC                                             \n",
       "2015                          27885               7    0.025103\n",
       "2016                          31928              10    0.031320\n",
       "2017                          32415               6    0.018510\n",
       "2018                          33418              15    0.044886\n",
       "2019                          32962               2    0.006068\n",
       "2021                          18114               6    0.033124"
      ]
     },
     "execution_count": 5,
     "metadata": {},
     "output_type": "execute_result"
    }
   ],
   "source": [
    "total_accidents_by_year = hist_siniestros.groupby(by=['ANO_OCURRENCIA_ACC']).size().to_frame(name='TOTAL_ACCIDENTS')\n",
    "null_accidents_by_year = hist_siniestros[hist_siniestros['LOCALIDAD'].isnull()].groupby(by=['ANO_OCURRENCIA_ACC']).size().to_frame(name='NULL_ACCIDENTS')\n",
    "\n",
    "localidad_comparison = pd.merge(total_accidents_by_year, null_accidents_by_year, left_on='ANO_OCURRENCIA_ACC', right_on='ANO_OCURRENCIA_ACC')\n",
    "localidad_comparison['PORCENTAJE'] = (localidad_comparison['NULL_ACCIDENTS']/localidad_comparison['TOTAL_ACCIDENTS']) * 100\n",
    "localidad_comparison"
   ]
  },
  {
   "cell_type": "markdown",
   "metadata": {},
   "source": [
    "## Exploratory Data Analysis"
   ]
  },
  {
   "cell_type": "code",
   "execution_count": 7,
   "metadata": {},
   "outputs": [
    {
     "data": {
      "text/html": [
       "<div>\n",
       "<style scoped>\n",
       "    .dataframe tbody tr th:only-of-type {\n",
       "        vertical-align: middle;\n",
       "    }\n",
       "\n",
       "    .dataframe tbody tr th {\n",
       "        vertical-align: top;\n",
       "    }\n",
       "\n",
       "    .dataframe thead th {\n",
       "        text-align: right;\n",
       "    }\n",
       "</style>\n",
       "<table border=\"1\" class=\"dataframe\">\n",
       "  <thead>\n",
       "    <tr style=\"text-align: right;\">\n",
       "      <th></th>\n",
       "      <th>FECHA_OCURRENCIA_ACC</th>\n",
       "      <th>FECHA_OCURRENCIA_ACC</th>\n",
       "    </tr>\n",
       "  </thead>\n",
       "  <tbody>\n",
       "    <tr>\n",
       "      <th>0</th>\n",
       "      <td>2017-06-12 00:00:00+00:00</td>\n",
       "      <td>2017-06-12 00:00:00+00:00</td>\n",
       "    </tr>\n",
       "    <tr>\n",
       "      <th>1</th>\n",
       "      <td>2020-11-19 00:00:00+00:00</td>\n",
       "      <td>2020-11-19 00:00:00+00:00</td>\n",
       "    </tr>\n",
       "    <tr>\n",
       "      <th>2</th>\n",
       "      <td>2020-11-10 00:00:00+00:00</td>\n",
       "      <td>2020-11-10 00:00:00+00:00</td>\n",
       "    </tr>\n",
       "    <tr>\n",
       "      <th>3</th>\n",
       "      <td>2015-05-11 00:00:00+00:00</td>\n",
       "      <td>2015-05-11 00:00:00+00:00</td>\n",
       "    </tr>\n",
       "    <tr>\n",
       "      <th>4</th>\n",
       "      <td>2016-06-08 00:00:00+00:00</td>\n",
       "      <td>2016-06-08 00:00:00+00:00</td>\n",
       "    </tr>\n",
       "  </tbody>\n",
       "</table>\n",
       "</div>"
      ],
      "text/plain": [
       "       FECHA_OCURRENCIA_ACC      FECHA_OCURRENCIA_ACC\n",
       "0 2017-06-12 00:00:00+00:00 2017-06-12 00:00:00+00:00\n",
       "1 2020-11-19 00:00:00+00:00 2020-11-19 00:00:00+00:00\n",
       "2 2020-11-10 00:00:00+00:00 2020-11-10 00:00:00+00:00\n",
       "3 2015-05-11 00:00:00+00:00 2015-05-11 00:00:00+00:00\n",
       "4 2016-06-08 00:00:00+00:00 2016-06-08 00:00:00+00:00"
      ]
     },
     "execution_count": 7,
     "metadata": {},
     "output_type": "execute_result"
    }
   ],
   "source": [
    "#Convertir a fechas:\n",
    "\n",
    "hist_siniestros[\"FECHA_OCURRENCIA_ACC\"]= pd.to_datetime(hist_siniestros[\"FECHA_OCURRENCIA_ACC\"])\n",
    "hist_siniestros[\"FECHA_HORA_ACC\"]= pd.to_datetime(hist_siniestros[\"FECHA_HORA_ACC\"])\n",
    "hist_siniestros[[\"FECHA_OCURRENCIA_ACC\",\"FECHA_OCURRENCIA_ACC\"]].head()"
   ]
  },
  {
   "cell_type": "code",
   "execution_count": 8,
   "metadata": {},
   "outputs": [
    {
     "name": "stdout",
     "output_type": "stream",
     "text": [
      "<class 'pandas.core.frame.DataFrame'>\n",
      "RangeIndex: 199146 entries, 0 to 199145\n",
      "Data columns (total 16 columns):\n",
      " #   Column                Non-Null Count   Dtype              \n",
      "---  ------                --------------   -----              \n",
      " 0   X                     199146 non-null  float64            \n",
      " 1   Y                     199146 non-null  float64            \n",
      " 2   OBJECTID              199146 non-null  int64              \n",
      " 3   FORMULARIO            199146 non-null  object             \n",
      " 4   CODIGO_ACCIDENTE      199146 non-null  int64              \n",
      " 5   FECHA_OCURRENCIA_ACC  199146 non-null  datetime64[ns, UTC]\n",
      " 6   ANO_OCURRENCIA_ACC    199146 non-null  int64              \n",
      " 7   DIRECCION             199146 non-null  object             \n",
      " 8   GRAVEDAD              199146 non-null  object             \n",
      " 9   CLASE_ACC             199146 non-null  object             \n",
      " 10  LOCALIDAD             199100 non-null  object             \n",
      " 11  FECHA_HORA_ACC        199146 non-null  datetime64[ns, UTC]\n",
      " 12  LATITUD               199146 non-null  float64            \n",
      " 13  LONGITUD              199146 non-null  float64            \n",
      " 14  CIV                   197445 non-null  float64            \n",
      " 15  PK_CALZADA            161172 non-null  float64            \n",
      "dtypes: datetime64[ns, UTC](2), float64(6), int64(3), object(5)\n",
      "memory usage: 24.3+ MB\n"
     ]
    }
   ],
   "source": [
    "hist_siniestros.info()"
   ]
  },
  {
   "cell_type": "code",
   "execution_count": 13,
   "metadata": {},
   "outputs": [
    {
     "data": {
      "text/plain": [
       "<AxesSubplot:title={'center':'Accidents'}, xlabel='DIA_ACC'>"
      ]
     },
     "execution_count": 13,
     "metadata": {},
     "output_type": "execute_result"
    },
    {
     "data": {
      "image/png": "[encoded data removed]",
      "text/plain": [
       "<Figure size 432x288 with 1 Axes>"
      ]
     },
     "metadata": {
      "needs_background": "light"
     },
     "output_type": "display_data"
    }
   ],
   "source": [
    "# Create histogram of accidents per day of the week:\n",
    "\n",
    "hist_siniestros['DIA_ACC']=pd.to_datetime(hist_siniestros['FECHA_OCURRENCIA_ACC']).dt.weekday\n",
    "ACC_SEMANA = hist_siniestros.groupby('DIA_ACC').size()\n",
    "\n",
    "info_w=ACC_SEMANA.to_frame().reset_index() #create a new data frame with no index\n",
    "info_w.columns=['DIA_ACC','ACC_SEMANA'] #add columns weekday and weekday_accidents\n",
    "info_w['DIA_ACC']=info_w['DIA_ACC'].astype(str) #change the weekday type to str type\n",
    "put_weekdays = {'0':'MONDAY','1':'TUESDA','2':'WENSDAY','3':'THURSDAY','4':'FRIDAY','5':'SATURDAY','6':'SUNDAY'}# create a dictionary for week days\n",
    "info_w.DIA_ACC = info_w.DIA_ACC.map(put_weekdays)#apply teh dictionary to change the weekdays from numbers to days names \n",
    "info_w.plot.bar(x = 'DIA_ACC', y = 'ACC_SEMANA', title = \"Accidents\", rot = 45)\n"
   ]
  },
  {
   "cell_type": "code",
   "execution_count": 16,
   "metadata": {},
   "outputs": [
    {
     "data": {
      "text/plain": [
       "<AxesSubplot:title={'center':'Accidents'}, xlabel='HORA_ACC'>"
      ]
     },
     "execution_count": 16,
     "metadata": {},
     "output_type": "execute_result"
    },
    {
     "data": {
      "image/png": "[encoded data removed]",
      "text/plain": [
       "<Figure size 432x288 with 1 Axes>"
      ]
     },
     "metadata": {
      "needs_background": "light"
     },
     "output_type": "display_data"
    }
   ],
   "source": [
    "# Create histogram of accidents by hour:\n",
    "\n",
    "hist_siniestros['HORA_ACC']=pd.to_datetime(hist_siniestros['FECHA_HORA_ACC']).dt.hour #create new column with the FECHA_HORA_ACC values coverted to hour \n",
    "hourly_accidents = hist_siniestros.groupby('HORA_ACC').size() # count the accidents by hour using groupby\n",
    "\n",
    "\n",
    "info_h=hourly_accidents\n",
    "info_h=info_h.to_frame().reset_index() #create a new data frame with no index\n",
    "info_h.columns=['HORA_ACC','hourly_accidents'] #add columns Hours and hourly accidents\n",
    "info_h['HORA_ACC']=info_h['HORA_ACC'].astype(str) #change the hour type to str type\n",
    "\n",
    "info_h.plot.bar(x = 'HORA_ACC', y = 'hourly_accidents', title = \"Accidents\", rot = 0)\n"
   ]
  },
  {
   "cell_type": "code",
   "execution_count": 20,
   "metadata": {},
   "outputs": [
    {
     "data": {
      "text/plain": [
       "<AxesSubplot:title={'center':'Accidents by location'}, xlabel='location_acc'>"
      ]
     },
     "execution_count": 20,
     "metadata": {},
     "output_type": "execute_result"
    },
    {
     "data": {
      "image/png": "[encoded data removed]",
      "text/plain": [
       "<Figure size 432x288 with 1 Axes>"
      ]
     },
     "metadata": {
      "needs_background": "light"
     },
     "output_type": "display_data"
    }
   ],
   "source": [
    "#Acidents by location:\n",
    "\n",
    "location_acc = hist_siniestros.groupby('LOCALIDAD').size() #Use groupby to sum the numbe of accidents per borough\n",
    "\n",
    "info_l=location_acc\n",
    "info_l=info_l.to_frame().reset_index() #create a new data frame with no index\n",
    "info_l.columns=['location_acc','LOCALIDAD'] #add columns BOROUGH and boroughs\n",
    " \n",
    "info_l.plot.bar(x = 'location_acc', y = 'LOCALIDAD', title = \"Accidents by location\", rot = 90)"
   ]
  }
 ],
 "metadata": {
  "interpreter": {
   "hash": "d2b845af27abd399253fcde00f15a88f8cf8ce029ac594b283727ea604aa5eb5"
  },
  "kernelspec": {
   "display_name": "Python 3.10.4 64-bit",
   "language": "python",
   "name": "python3"
  },
  "language_info": {
   "codemirror_mode": {
    "name": "ipython",
    "version": 3
   },
   "file_extension": ".py",
   "mimetype": "text/x-python",
   "name": "python",
   "nbconvert_exporter": "python",
   "pygments_lexer": "ipython3",
   "version": "3.10.4"
  }
 },
 "nbformat": 4,
 "nbformat_minor": 4
}
