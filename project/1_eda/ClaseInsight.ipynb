{
 "cells": [
  {
   "cell_type": "code",
   "execution_count": 42,
   "id": "6c491b5c-0bc7-4155-b69a-502a88f27087",
   "metadata": {},
   "outputs": [
    {
     "name": "stdout",
     "output_type": "stream",
     "text": [
      "                        type  Cantidad\n",
      "1                     Choque    2379.0\n",
      "0               Autolesiones     100.0\n",
      "3  Choque contra objeto fijo      58.0\n",
      "4                Volcamiento      14.0\n",
      "2     Choque con volcamiento       4.0\n",
      "['At 10:00 hours, the most frequent accidents are Choque and Autolesiones, with a total amout of 2379.0 and 100.0 cases.']\n"
     ]
    },
    {
     "data": {
      "application/vnd.plotly.v1+json": {
       "config": {
        "plotlyServerURL": "https://plot.ly"
       },
       "data": [
        {
         "alignmentgroup": "True",
         "hovertemplate": "Accident type=%{x}<br>Amount=%{y}<extra></extra>",
         "legendgroup": "",
         "marker": {
          "color": "#636efa",
          "pattern": {
           "shape": ""
          }
         },
         "name": "",
         "offsetgroup": "",
         "orientation": "v",
         "showlegend": false,
         "textposition": "auto",
         "type": "bar",
         "x": [
          "Choque",
          "Autolesiones",
          "Choque contra objeto fijo",
          "Volcamiento",
          "Choque con volcamiento"
         ],
         "xaxis": "x",
         "y": [
          2379,
          100,
          58,
          14,
          4
         ],
         "yaxis": "y"
        }
       ],
       "layout": {
        "autosize": true,
        "barmode": "relative",
        "legend": {
         "tracegroupgap": 0
        },
        "template": {
         "data": {
          "bar": [
           {
            "error_x": {
             "color": "#2a3f5f"
            },
            "error_y": {
             "color": "#2a3f5f"
            },
            "marker": {
             "line": {
              "color": "#E5ECF6",
              "width": 0.5
             },
             "pattern": {
              "fillmode": "overlay",
              "size": 10,
              "solidity": 0.2
             }
            },
            "type": "bar"
           }
          ],
          "barpolar": [
           {
            "marker": {
             "line": {
              "color": "#E5ECF6",
              "width": 0.5
             },
             "pattern": {
              "fillmode": "overlay",
              "size": 10,
              "solidity": 0.2
             }
            },
            "type": "barpolar"
           }
          ],
          "carpet": [
           {
            "aaxis": {
             "endlinecolor": "#2a3f5f",
             "gridcolor": "white",
             "linecolor": "white",
             "minorgridcolor": "white",
             "startlinecolor": "#2a3f5f"
            },
            "baxis": {
             "endlinecolor": "#2a3f5f",
             "gridcolor": "white",
             "linecolor": "white",
             "minorgridcolor": "white",
             "startlinecolor": "#2a3f5f"
            },
            "type": "carpet"
           }
          ],
          "choropleth": [
           {
            "colorbar": {
             "outlinewidth": 0,
             "ticks": ""
            },
            "type": "choropleth"
           }
          ],
          "contour": [
           {
            "colorbar": {
             "outlinewidth": 0,
             "ticks": ""
            },
            "colorscale": [
             [
              0,
              "#0d0887"
             ],
             [
              0.1111111111111111,
              "#46039f"
             ],
             [
              0.2222222222222222,
              "#7201a8"
             ],
             [
              0.3333333333333333,
              "#9c179e"
             ],
             [
              0.4444444444444444,
              "#bd3786"
             ],
             [
              0.5555555555555556,
              "#d8576b"
             ],
             [
              0.6666666666666666,
              "#ed7953"
             ],
             [
              0.7777777777777778,
              "#fb9f3a"
             ],
             [
              0.8888888888888888,
              "#fdca26"
             ],
             [
              1,
              "#f0f921"
             ]
            ],
            "type": "contour"
           }
          ],
          "contourcarpet": [
           {
            "colorbar": {
             "outlinewidth": 0,
             "ticks": ""
            },
            "type": "contourcarpet"
           }
          ],
          "heatmap": [
           {
            "colorbar": {
             "outlinewidth": 0,
             "ticks": ""
            },
            "colorscale": [
             [
              0,
              "#0d0887"
             ],
             [
              0.1111111111111111,
              "#46039f"
             ],
             [
              0.2222222222222222,
              "#7201a8"
             ],
             [
              0.3333333333333333,
              "#9c179e"
             ],
             [
              0.4444444444444444,
              "#bd3786"
             ],
             [
              0.5555555555555556,
              "#d8576b"
             ],
             [
              0.6666666666666666,
              "#ed7953"
             ],
             [
              0.7777777777777778,
              "#fb9f3a"
             ],
             [
              0.8888888888888888,
              "#fdca26"
             ],
             [
              1,
              "#f0f921"
             ]
            ],
            "type": "heatmap"
           }
          ],
          "heatmapgl": [
           {
            "colorbar": {
             "outlinewidth": 0,
             "ticks": ""
            },
            "colorscale": [
             [
              0,
              "#0d0887"
             ],
             [
              0.1111111111111111,
              "#46039f"
             ],
             [
              0.2222222222222222,
              "#7201a8"
             ],
             [
              0.3333333333333333,
              "#9c179e"
             ],
             [
              0.4444444444444444,
              "#bd3786"
             ],
             [
              0.5555555555555556,
              "#d8576b"
             ],
             [
              0.6666666666666666,
              "#ed7953"
             ],
             [
              0.7777777777777778,
              "#fb9f3a"
             ],
             [
              0.8888888888888888,
              "#fdca26"
             ],
             [
              1,
              "#f0f921"
             ]
            ],
            "type": "heatmapgl"
           }
          ],
          "histogram": [
           {
            "marker": {
             "pattern": {
              "fillmode": "overlay",
              "size": 10,
              "solidity": 0.2
             }
            },
            "type": "histogram"
           }
          ],
          "histogram2d": [
           {
            "colorbar": {
             "outlinewidth": 0,
             "ticks": ""
            },
            "colorscale": [
             [
              0,
              "#0d0887"
             ],
             [
              0.1111111111111111,
              "#46039f"
             ],
             [
              0.2222222222222222,
              "#7201a8"
             ],
             [
              0.3333333333333333,
              "#9c179e"
             ],
             [
              0.4444444444444444,
              "#bd3786"
             ],
             [
              0.5555555555555556,
              "#d8576b"
             ],
             [
              0.6666666666666666,
              "#ed7953"
             ],
             [
              0.7777777777777778,
              "#fb9f3a"
             ],
             [
              0.8888888888888888,
              "#fdca26"
             ],
             [
              1,
              "#f0f921"
             ]
            ],
            "type": "histogram2d"
           }
          ],
          "histogram2dcontour": [
           {
            "colorbar": {
             "outlinewidth": 0,
             "ticks": ""
            },
            "colorscale": [
             [
              0,
              "#0d0887"
             ],
             [
              0.1111111111111111,
              "#46039f"
             ],
             [
              0.2222222222222222,
              "#7201a8"
             ],
             [
              0.3333333333333333,
              "#9c179e"
             ],
             [
              0.4444444444444444,
              "#bd3786"
             ],
             [
              0.5555555555555556,
              "#d8576b"
             ],
             [
              0.6666666666666666,
              "#ed7953"
             ],
             [
              0.7777777777777778,
              "#fb9f3a"
             ],
             [
              0.8888888888888888,
              "#fdca26"
             ],
             [
              1,
              "#f0f921"
             ]
            ],
            "type": "histogram2dcontour"
           }
          ],
          "mesh3d": [
           {
            "colorbar": {
             "outlinewidth": 0,
             "ticks": ""
            },
            "type": "mesh3d"
           }
          ],
          "parcoords": [
           {
            "line": {
             "colorbar": {
              "outlinewidth": 0,
              "ticks": ""
             }
            },
            "type": "parcoords"
           }
          ],
          "pie": [
           {
            "automargin": true,
            "type": "pie"
           }
          ],
          "scatter": [
           {
            "fillpattern": {
             "fillmode": "overlay",
             "size": 10,
             "solidity": 0.2
            },
            "type": "scatter"
           }
          ],
          "scatter3d": [
           {
            "line": {
             "colorbar": {
              "outlinewidth": 0,
              "ticks": ""
             }
            },
            "marker": {
             "colorbar": {
              "outlinewidth": 0,
              "ticks": ""
             }
            },
            "type": "scatter3d"
           }
          ],
          "scattercarpet": [
           {
            "marker": {
             "colorbar": {
              "outlinewidth": 0,
              "ticks": ""
             }
            },
            "type": "scattercarpet"
           }
          ],
          "scattergeo": [
           {
            "marker": {
             "colorbar": {
              "outlinewidth": 0,
              "ticks": ""
             }
            },
            "type": "scattergeo"
           }
          ],
          "scattergl": [
           {
            "marker": {
             "colorbar": {
              "outlinewidth": 0,
              "ticks": ""
             }
            },
            "type": "scattergl"
           }
          ],
          "scattermapbox": [
           {
            "marker": {
             "colorbar": {
              "outlinewidth": 0,
              "ticks": ""
             }
            },
            "type": "scattermapbox"
           }
          ],
          "scatterpolar": [
           {
            "marker": {
             "colorbar": {
              "outlinewidth": 0,
              "ticks": ""
             }
            },
            "type": "scatterpolar"
           }
          ],
          "scatterpolargl": [
           {
            "marker": {
             "colorbar": {
              "outlinewidth": 0,
              "ticks": ""
             }
            },
            "type": "scatterpolargl"
           }
          ],
          "scatterternary": [
           {
            "marker": {
             "colorbar": {
              "outlinewidth": 0,
              "ticks": ""
             }
            },
            "type": "scatterternary"
           }
          ],
          "surface": [
           {
            "colorbar": {
             "outlinewidth": 0,
             "ticks": ""
            },
            "colorscale": [
             [
              0,
              "#0d0887"
             ],
             [
              0.1111111111111111,
              "#46039f"
             ],
             [
              0.2222222222222222,
              "#7201a8"
             ],
             [
              0.3333333333333333,
              "#9c179e"
             ],
             [
              0.4444444444444444,
              "#bd3786"
             ],
             [
              0.5555555555555556,
              "#d8576b"
             ],
             [
              0.6666666666666666,
              "#ed7953"
             ],
             [
              0.7777777777777778,
              "#fb9f3a"
             ],
             [
              0.8888888888888888,
              "#fdca26"
             ],
             [
              1,
              "#f0f921"
             ]
            ],
            "type": "surface"
           }
          ],
          "table": [
           {
            "cells": {
             "fill": {
              "color": "#EBF0F8"
             },
             "line": {
              "color": "white"
             }
            },
            "header": {
             "fill": {
              "color": "#C8D4E3"
             },
             "line": {
              "color": "white"
             }
            },
            "type": "table"
           }
          ]
         },
         "layout": {
          "annotationdefaults": {
           "arrowcolor": "#2a3f5f",
           "arrowhead": 0,
           "arrowwidth": 1
          },
          "autotypenumbers": "strict",
          "coloraxis": {
           "colorbar": {
            "outlinewidth": 0,
            "ticks": ""
           }
          },
          "colorscale": {
           "diverging": [
            [
             0,
             "#8e0152"
            ],
            [
             0.1,
             "#c51b7d"
            ],
            [
             0.2,
             "#de77ae"
            ],
            [
             0.3,
             "#f1b6da"
            ],
            [
             0.4,
             "#fde0ef"
            ],
            [
             0.5,
             "#f7f7f7"
            ],
            [
             0.6,
             "#e6f5d0"
            ],
            [
             0.7,
             "#b8e186"
            ],
            [
             0.8,
             "#7fbc41"
            ],
            [
             0.9,
             "#4d9221"
            ],
            [
             1,
             "#276419"
            ]
           ],
           "sequential": [
            [
             0,
             "#0d0887"
            ],
            [
             0.1111111111111111,
             "#46039f"
            ],
            [
             0.2222222222222222,
             "#7201a8"
            ],
            [
             0.3333333333333333,
             "#9c179e"
            ],
            [
             0.4444444444444444,
             "#bd3786"
            ],
            [
             0.5555555555555556,
             "#d8576b"
            ],
            [
             0.6666666666666666,
             "#ed7953"
            ],
            [
             0.7777777777777778,
             "#fb9f3a"
            ],
            [
             0.8888888888888888,
             "#fdca26"
            ],
            [
             1,
             "#f0f921"
            ]
           ],
           "sequentialminus": [
            [
             0,
             "#0d0887"
            ],
            [
             0.1111111111111111,
             "#46039f"
            ],
            [
             0.2222222222222222,
             "#7201a8"
            ],
            [
             0.3333333333333333,
             "#9c179e"
            ],
            [
             0.4444444444444444,
             "#bd3786"
            ],
            [
             0.5555555555555556,
             "#d8576b"
            ],
            [
             0.6666666666666666,
             "#ed7953"
            ],
            [
             0.7777777777777778,
             "#fb9f3a"
            ],
            [
             0.8888888888888888,
             "#fdca26"
            ],
            [
             1,
             "#f0f921"
            ]
           ]
          },
          "colorway": [
           "#636efa",
           "#EF553B",
           "#00cc96",
           "#ab63fa",
           "#FFA15A",
           "#19d3f3",
           "#FF6692",
           "#B6E880",
           "#FF97FF",
           "#FECB52"
          ],
          "font": {
           "color": "#2a3f5f"
          },
          "geo": {
           "bgcolor": "white",
           "lakecolor": "white",
           "landcolor": "#E5ECF6",
           "showlakes": true,
           "showland": true,
           "subunitcolor": "white"
          },
          "hoverlabel": {
           "align": "left"
          },
          "hovermode": "closest",
          "mapbox": {
           "style": "light"
          },
          "paper_bgcolor": "white",
          "plot_bgcolor": "#E5ECF6",
          "polar": {
           "angularaxis": {
            "gridcolor": "white",
            "linecolor": "white",
            "ticks": ""
           },
           "bgcolor": "#E5ECF6",
           "radialaxis": {
            "gridcolor": "white",
            "linecolor": "white",
            "ticks": ""
           }
          },
          "scene": {
           "xaxis": {
            "backgroundcolor": "#E5ECF6",
            "gridcolor": "white",
            "gridwidth": 2,
            "linecolor": "white",
            "showbackground": true,
            "ticks": "",
            "zerolinecolor": "white"
           },
           "yaxis": {
            "backgroundcolor": "#E5ECF6",
            "gridcolor": "white",
            "gridwidth": 2,
            "linecolor": "white",
            "showbackground": true,
            "ticks": "",
            "zerolinecolor": "white"
           },
           "zaxis": {
            "backgroundcolor": "#E5ECF6",
            "gridcolor": "white",
            "gridwidth": 2,
            "linecolor": "white",
            "showbackground": true,
            "ticks": "",
            "zerolinecolor": "white"
           }
          },
          "shapedefaults": {
           "line": {
            "color": "#2a3f5f"
           }
          },
          "ternary": {
           "aaxis": {
            "gridcolor": "white",
            "linecolor": "white",
            "ticks": ""
           },
           "baxis": {
            "gridcolor": "white",
            "linecolor": "white",
            "ticks": ""
           },
           "bgcolor": "#E5ECF6",
           "caxis": {
            "gridcolor": "white",
            "linecolor": "white",
            "ticks": ""
           }
          },
          "title": {
           "x": 0.05
          },
          "xaxis": {
           "automargin": true,
           "gridcolor": "white",
           "linecolor": "white",
           "ticks": "",
           "title": {
            "standoff": 15
           },
           "zerolinecolor": "white",
           "zerolinewidth": 2
          },
          "yaxis": {
           "automargin": true,
           "gridcolor": "white",
           "linecolor": "white",
           "ticks": "",
           "title": {
            "standoff": 15
           },
           "zerolinecolor": "white",
           "zerolinewidth": 2
          }
         }
        },
        "title": {
         "text": "Accident distribution at 10:00 hours"
        },
        "xaxis": {
         "anchor": "y",
         "autorange": true,
         "domain": [
          0,
          1
         ],
         "range": [
          -0.5,
          4.5
         ],
         "title": {
          "text": "Accident type"
         },
         "type": "category"
        },
        "yaxis": {
         "anchor": "x",
         "autorange": true,
         "domain": [
          0,
          1
         ],
         "range": [
          0,
          2504.2105263157896
         ],
         "title": {
          "text": "Amount"
         },
         "type": "linear"
        }
       }
      },
      "image/png": "[encoded data removed]",
      "text/html": [
       "<div>                            <div id=\"fc8c0808-d8a3-4956-824c-eb59a0261714\" class=\"plotly-graph-div\" style=\"height:525px; width:100%;\"></div>            <script type=\"text/javascript\">                require([\"plotly\"], function(Plotly) {                    window.PLOTLYENV=window.PLOTLYENV || {};                                    if (document.getElementById(\"fc8c0808-d8a3-4956-824c-eb59a0261714\")) {                    Plotly.newPlot(                        \"fc8c0808-d8a3-4956-824c-eb59a0261714\",                        [{\"alignmentgroup\":\"True\",\"hovertemplate\":\"Accident type=%{x}<br>Amount=%{y}<extra></extra>\",\"legendgroup\":\"\",\"marker\":{\"color\":\"#636efa\",\"pattern\":{\"shape\":\"\"}},\"name\":\"\",\"offsetgroup\":\"\",\"orientation\":\"v\",\"showlegend\":false,\"textposition\":\"auto\",\"x\":[\"Choque\",\"Autolesiones\",\"Choque contra objeto fijo\",\"Volcamiento\",\"Choque con volcamiento\"],\"xaxis\":\"x\",\"y\":[2379.0,100.0,58.0,14.0,4.0],\"yaxis\":\"y\",\"type\":\"bar\"}],                        {\"template\":{\"data\":{\"histogram2dcontour\":[{\"type\":\"histogram2dcontour\",\"colorbar\":{\"outlinewidth\":0,\"ticks\":\"\"},\"colorscale\":[[0.0,\"#0d0887\"],[0.1111111111111111,\"#46039f\"],[0.2222222222222222,\"#7201a8\"],[0.3333333333333333,\"#9c179e\"],[0.4444444444444444,\"#bd3786\"],[0.5555555555555556,\"#d8576b\"],[0.6666666666666666,\"#ed7953\"],[0.7777777777777778,\"#fb9f3a\"],[0.8888888888888888,\"#fdca26\"],[1.0,\"#f0f921\"]]}],\"choropleth\":[{\"type\":\"choropleth\",\"colorbar\":{\"outlinewidth\":0,\"ticks\":\"\"}}],\"histogram2d\":[{\"type\":\"histogram2d\",\"colorbar\":{\"outlinewidth\":0,\"ticks\":\"\"},\"colorscale\":[[0.0,\"#0d0887\"],[0.1111111111111111,\"#46039f\"],[0.2222222222222222,\"#7201a8\"],[0.3333333333333333,\"#9c179e\"],[0.4444444444444444,\"#bd3786\"],[0.5555555555555556,\"#d8576b\"],[0.6666666666666666,\"#ed7953\"],[0.7777777777777778,\"#fb9f3a\"],[0.8888888888888888,\"#fdca26\"],[1.0,\"#f0f921\"]]}],\"heatmap\":[{\"type\":\"heatmap\",\"colorbar\":{\"outlinewidth\":0,\"ticks\":\"\"},\"colorscale\":[[0.0,\"#0d0887\"],[0.1111111111111111,\"#46039f\"],[0.2222222222222222,\"#7201a8\"],[0.3333333333333333,\"#9c179e\"],[0.4444444444444444,\"#bd3786\"],[0.5555555555555556,\"#d8576b\"],[0.6666666666666666,\"#ed7953\"],[0.7777777777777778,\"#fb9f3a\"],[0.8888888888888888,\"#fdca26\"],[1.0,\"#f0f921\"]]}],\"heatmapgl\":[{\"type\":\"heatmapgl\",\"colorbar\":{\"outlinewidth\":0,\"ticks\":\"\"},\"colorscale\":[[0.0,\"#0d0887\"],[0.1111111111111111,\"#46039f\"],[0.2222222222222222,\"#7201a8\"],[0.3333333333333333,\"#9c179e\"],[0.4444444444444444,\"#bd3786\"],[0.5555555555555556,\"#d8576b\"],[0.6666666666666666,\"#ed7953\"],[0.7777777777777778,\"#fb9f3a\"],[0.8888888888888888,\"#fdca26\"],[1.0,\"#f0f921\"]]}],\"contourcarpet\":[{\"type\":\"contourcarpet\",\"colorbar\":{\"outlinewidth\":0,\"ticks\":\"\"}}],\"contour\":[{\"type\":\"contour\",\"colorbar\":{\"outlinewidth\":0,\"ticks\":\"\"},\"colorscale\":[[0.0,\"#0d0887\"],[0.1111111111111111,\"#46039f\"],[0.2222222222222222,\"#7201a8\"],[0.3333333333333333,\"#9c179e\"],[0.4444444444444444,\"#bd3786\"],[0.5555555555555556,\"#d8576b\"],[0.6666666666666666,\"#ed7953\"],[0.7777777777777778,\"#fb9f3a\"],[0.8888888888888888,\"#fdca26\"],[1.0,\"#f0f921\"]]}],\"surface\":[{\"type\":\"surface\",\"colorbar\":{\"outlinewidth\":0,\"ticks\":\"\"},\"colorscale\":[[0.0,\"#0d0887\"],[0.1111111111111111,\"#46039f\"],[0.2222222222222222,\"#7201a8\"],[0.3333333333333333,\"#9c179e\"],[0.4444444444444444,\"#bd3786\"],[0.5555555555555556,\"#d8576b\"],[0.6666666666666666,\"#ed7953\"],[0.7777777777777778,\"#fb9f3a\"],[0.8888888888888888,\"#fdca26\"],[1.0,\"#f0f921\"]]}],\"mesh3d\":[{\"type\":\"mesh3d\",\"colorbar\":{\"outlinewidth\":0,\"ticks\":\"\"}}],\"scatter\":[{\"fillpattern\":{\"fillmode\":\"overlay\",\"size\":10,\"solidity\":0.2},\"type\":\"scatter\"}],\"parcoords\":[{\"type\":\"parcoords\",\"line\":{\"colorbar\":{\"outlinewidth\":0,\"ticks\":\"\"}}}],\"scatterpolargl\":[{\"type\":\"scatterpolargl\",\"marker\":{\"colorbar\":{\"outlinewidth\":0,\"ticks\":\"\"}}}],\"bar\":[{\"error_x\":{\"color\":\"#2a3f5f\"},\"error_y\":{\"color\":\"#2a3f5f\"},\"marker\":{\"line\":{\"color\":\"#E5ECF6\",\"width\":0.5},\"pattern\":{\"fillmode\":\"overlay\",\"size\":10,\"solidity\":0.2}},\"type\":\"bar\"}],\"scattergeo\":[{\"type\":\"scattergeo\",\"marker\":{\"colorbar\":{\"outlinewidth\":0,\"ticks\":\"\"}}}],\"scatterpolar\":[{\"type\":\"scatterpolar\",\"marker\":{\"colorbar\":{\"outlinewidth\":0,\"ticks\":\"\"}}}],\"histogram\":[{\"marker\":{\"pattern\":{\"fillmode\":\"overlay\",\"size\":10,\"solidity\":0.2}},\"type\":\"histogram\"}],\"scattergl\":[{\"type\":\"scattergl\",\"marker\":{\"colorbar\":{\"outlinewidth\":0,\"ticks\":\"\"}}}],\"scatter3d\":[{\"type\":\"scatter3d\",\"line\":{\"colorbar\":{\"outlinewidth\":0,\"ticks\":\"\"}},\"marker\":{\"colorbar\":{\"outlinewidth\":0,\"ticks\":\"\"}}}],\"scattermapbox\":[{\"type\":\"scattermapbox\",\"marker\":{\"colorbar\":{\"outlinewidth\":0,\"ticks\":\"\"}}}],\"scatterternary\":[{\"type\":\"scatterternary\",\"marker\":{\"colorbar\":{\"outlinewidth\":0,\"ticks\":\"\"}}}],\"scattercarpet\":[{\"type\":\"scattercarpet\",\"marker\":{\"colorbar\":{\"outlinewidth\":0,\"ticks\":\"\"}}}],\"carpet\":[{\"aaxis\":{\"endlinecolor\":\"#2a3f5f\",\"gridcolor\":\"white\",\"linecolor\":\"white\",\"minorgridcolor\":\"white\",\"startlinecolor\":\"#2a3f5f\"},\"baxis\":{\"endlinecolor\":\"#2a3f5f\",\"gridcolor\":\"white\",\"linecolor\":\"white\",\"minorgridcolor\":\"white\",\"startlinecolor\":\"#2a3f5f\"},\"type\":\"carpet\"}],\"table\":[{\"cells\":{\"fill\":{\"color\":\"#EBF0F8\"},\"line\":{\"color\":\"white\"}},\"header\":{\"fill\":{\"color\":\"#C8D4E3\"},\"line\":{\"color\":\"white\"}},\"type\":\"table\"}],\"barpolar\":[{\"marker\":{\"line\":{\"color\":\"#E5ECF6\",\"width\":0.5},\"pattern\":{\"fillmode\":\"overlay\",\"size\":10,\"solidity\":0.2}},\"type\":\"barpolar\"}],\"pie\":[{\"automargin\":true,\"type\":\"pie\"}]},\"layout\":{\"autotypenumbers\":\"strict\",\"colorway\":[\"#636efa\",\"#EF553B\",\"#00cc96\",\"#ab63fa\",\"#FFA15A\",\"#19d3f3\",\"#FF6692\",\"#B6E880\",\"#FF97FF\",\"#FECB52\"],\"font\":{\"color\":\"#2a3f5f\"},\"hovermode\":\"closest\",\"hoverlabel\":{\"align\":\"left\"},\"paper_bgcolor\":\"white\",\"plot_bgcolor\":\"#E5ECF6\",\"polar\":{\"bgcolor\":\"#E5ECF6\",\"angularaxis\":{\"gridcolor\":\"white\",\"linecolor\":\"white\",\"ticks\":\"\"},\"radialaxis\":{\"gridcolor\":\"white\",\"linecolor\":\"white\",\"ticks\":\"\"}},\"ternary\":{\"bgcolor\":\"#E5ECF6\",\"aaxis\":{\"gridcolor\":\"white\",\"linecolor\":\"white\",\"ticks\":\"\"},\"baxis\":{\"gridcolor\":\"white\",\"linecolor\":\"white\",\"ticks\":\"\"},\"caxis\":{\"gridcolor\":\"white\",\"linecolor\":\"white\",\"ticks\":\"\"}},\"coloraxis\":{\"colorbar\":{\"outlinewidth\":0,\"ticks\":\"\"}},\"colorscale\":{\"sequential\":[[0.0,\"#0d0887\"],[0.1111111111111111,\"#46039f\"],[0.2222222222222222,\"#7201a8\"],[0.3333333333333333,\"#9c179e\"],[0.4444444444444444,\"#bd3786\"],[0.5555555555555556,\"#d8576b\"],[0.6666666666666666,\"#ed7953\"],[0.7777777777777778,\"#fb9f3a\"],[0.8888888888888888,\"#fdca26\"],[1.0,\"#f0f921\"]],\"sequentialminus\":[[0.0,\"#0d0887\"],[0.1111111111111111,\"#46039f\"],[0.2222222222222222,\"#7201a8\"],[0.3333333333333333,\"#9c179e\"],[0.4444444444444444,\"#bd3786\"],[0.5555555555555556,\"#d8576b\"],[0.6666666666666666,\"#ed7953\"],[0.7777777777777778,\"#fb9f3a\"],[0.8888888888888888,\"#fdca26\"],[1.0,\"#f0f921\"]],\"diverging\":[[0,\"#8e0152\"],[0.1,\"#c51b7d\"],[0.2,\"#de77ae\"],[0.3,\"#f1b6da\"],[0.4,\"#fde0ef\"],[0.5,\"#f7f7f7\"],[0.6,\"#e6f5d0\"],[0.7,\"#b8e186\"],[0.8,\"#7fbc41\"],[0.9,\"#4d9221\"],[1,\"#276419\"]]},\"xaxis\":{\"gridcolor\":\"white\",\"linecolor\":\"white\",\"ticks\":\"\",\"title\":{\"standoff\":15},\"zerolinecolor\":\"white\",\"automargin\":true,\"zerolinewidth\":2},\"yaxis\":{\"gridcolor\":\"white\",\"linecolor\":\"white\",\"ticks\":\"\",\"title\":{\"standoff\":15},\"zerolinecolor\":\"white\",\"automargin\":true,\"zerolinewidth\":2},\"scene\":{\"xaxis\":{\"backgroundcolor\":\"#E5ECF6\",\"gridcolor\":\"white\",\"linecolor\":\"white\",\"showbackground\":true,\"ticks\":\"\",\"zerolinecolor\":\"white\",\"gridwidth\":2},\"yaxis\":{\"backgroundcolor\":\"#E5ECF6\",\"gridcolor\":\"white\",\"linecolor\":\"white\",\"showbackground\":true,\"ticks\":\"\",\"zerolinecolor\":\"white\",\"gridwidth\":2},\"zaxis\":{\"backgroundcolor\":\"#E5ECF6\",\"gridcolor\":\"white\",\"linecolor\":\"white\",\"showbackground\":true,\"ticks\":\"\",\"zerolinecolor\":\"white\",\"gridwidth\":2}},\"shapedefaults\":{\"line\":{\"color\":\"#2a3f5f\"}},\"annotationdefaults\":{\"arrowcolor\":\"#2a3f5f\",\"arrowhead\":0,\"arrowwidth\":1},\"geo\":{\"bgcolor\":\"white\",\"landcolor\":\"#E5ECF6\",\"subunitcolor\":\"white\",\"showland\":true,\"showlakes\":true,\"lakecolor\":\"white\"},\"title\":{\"x\":0.05},\"mapbox\":{\"style\":\"light\"}}},\"xaxis\":{\"anchor\":\"y\",\"domain\":[0.0,1.0],\"title\":{\"text\":\"Accident type\"}},\"yaxis\":{\"anchor\":\"x\",\"domain\":[0.0,1.0],\"title\":{\"text\":\"Amount\"}},\"legend\":{\"tracegroupgap\":0},\"title\":{\"text\":\"Accident distribution at 10:00 hours\"},\"barmode\":\"relative\"},                        {\"responsive\": true}                    ).then(function(){\n",
       "                            \n",
       "var gd = document.getElementById('fc8c0808-d8a3-4956-824c-eb59a0261714');\n",
       "var x = new MutationObserver(function (mutations, observer) {{\n",
       "        var display = window.getComputedStyle(gd).display;\n",
       "        if (!display || display === 'none') {{\n",
       "            console.log([gd, 'removed!']);\n",
       "            Plotly.purge(gd);\n",
       "            observer.disconnect();\n",
       "        }}\n",
       "}});\n",
       "\n",
       "// Listen for the removal of the full notebook cells\n",
       "var notebookContainer = gd.closest('#notebook-container');\n",
       "if (notebookContainer) {{\n",
       "    x.observe(notebookContainer, {childList: true});\n",
       "}}\n",
       "\n",
       "// Listen for the clearing of the current output cell\n",
       "var outputEl = gd.closest('.output');\n",
       "if (outputEl) {{\n",
       "    x.observe(outputEl, {childList: true});\n",
       "}}\n",
       "\n",
       "                        })                };                });            </script>        </div>"
      ]
     },
     "metadata": {},
     "output_type": "display_data"
    }
   ],
   "source": [
    "import pandas as pd\n",
    "import geopandas as gpd\n",
    "import plotly.express as px\n",
    "from sklearn.cluster import DBSCAN \n",
    "from math import radians\n",
    "\n",
    "class Insights:\n",
    "    \n",
    "    def __init__(self):\n",
    "        self.incidents = None\n",
    "        self.incidents_implicated = None\n",
    "        self.siniestros = None\n",
    "        self.gdf = None\n",
    "        \n",
    "        self.cargarDatasets()\n",
    "        self.inicializarDatasets()\n",
    "        self.procesarDatasets()\n",
    "        self.cargarPoligonos()\n",
    "        \n",
    "    def cargarDatasets(self):\n",
    "        self.incidents = pd.read_csv(\"../0_datasets/processed/incidents.csv.gz\", parse_dates=[\"incident_time\"])\n",
    "        self.incidents_implicated = pd.read_csv(\"../0_datasets/processed/incidents_implicated.csv.gz\")\n",
    "        \n",
    "    def inicializarDatasets(self):\n",
    "        self.siniestros = self.incidents[self.incidents[\"class\"] == \"Siniestro\"]        \n",
    "        self.siniestros= self.siniestros.merge(self.incidents_implicated,\n",
    "                                            how=\"left\", left_on=\"id\",\n",
    "                                            right_on=\"incident_id\").drop(columns=[\"id_y\", \"incident_id\"])\\\n",
    "                                                                   .rename(columns={\"id_x\":\"id\"})\\\n",
    "                                                                   .drop_duplicates(subset=\"id\")\\\n",
    "                                                                   .sort_values(\"incident_time\")\n",
    "    def cargarPoligonos(self):\n",
    "        self.pol = gpd.read_file(\"../0_datasets/processed/poligonos_bog.geojson\")\n",
    "        \n",
    "    \n",
    "    def procesarDatasets(self):\n",
    "        self.siniestros[\"incident_day\"] = self.siniestros.loc[:, \"incident_time\"].dt.to_period(\"d\").dt.to_timestamp()\n",
    "        self.siniestros[\"hour\"] = self.siniestros[\"incident_time\"].dt.hour\n",
    "                \n",
    "    #1. El mayor tipo de accidente\n",
    "    def mayor_tipo_accidente(self):\n",
    "        data = self.siniestros[\"type\"].value_counts()    \n",
    "        insights = []\n",
    "\n",
    "        insights.append(\"The incident type with the most amount of cases is \"+str(data.index[0])+\" with a total of \"+str(data[0]))        \n",
    "        grafico = px.bar(data, x=data.index, y=data, title=\"Biggest incident types\",labels={'index':'Incident type','y':'Value'})\n",
    "        return data, grafico, insights\n",
    "    \n",
    "    #2. Las localidades con mayor cantidad de accidentes\n",
    "    def cantidad_accidentes_por_localidad(self):        \n",
    "        data = self.siniestros[\"location\"].value_counts().reset_index().rename(columns={\"index\":\"localidad\", \"location\": \"num_siniestros\"}).drop(19)\n",
    "        pol_copy = self.pol\n",
    "        data_chlo = pol_copy.merge(data,how=\"left\", on=\"localidad\").set_index(\"localidad\")\n",
    "\n",
    "        grafico = px.choropleth_mapbox(data_chlo,\n",
    "                                geojson=data_chlo.geometry,\n",
    "                                locations=data_chlo.index,\n",
    "                                color=\"num_siniestros\",\n",
    "                                    center={'lat': 4.601981275958889, 'lon': -74.0767720598354},\n",
    "                                mapbox_style=\"open-street-map\",\n",
    "                                color_continuous_scale=[\"green\",\"red\"],\n",
    "                                zoom=10,\n",
    "                                height=800\n",
    "                                )\n",
    "\n",
    "        insights=[]    \n",
    "        insights.append(\"The location with more accidents is \"+str(data.iloc[0][0])+\" with a total amount of \"+str(data.iloc[0][1])+\" cases, followed by \"+str(data.iloc[1][0])+\" and \"+str(data.iloc[2][0])+\" with \"+str(data.iloc[1][1])+\" and \"+str(data.iloc[2][1])+\" cases respectively\")    \n",
    "        #grafico = px.bar(data, x=\"index\", y=\"total\", color=\"tipo\", title=\"Deaths per accident\",labels={'index':'# of deaths','total':'Value','tipo':'Category'})    \n",
    "        return data, grafico, insights\n",
    "\n",
    "    #3. Cantidad de accidentes con muertes\n",
    "    def cantidad_accidentes_con_muertos(self):\n",
    "        data_muertos = self.siniestros[\"dead_count\"].value_counts().to_frame()\n",
    "        data_muertos[\"tipo\"],data_muertos[\"total\"] = \"Muertos\",data_muertos[\"dead_count\"]\n",
    "        data = data_muertos\n",
    "        del data[\"dead_count\"]\n",
    "        data.reset_index(inplace=True)    \n",
    "        data = data[(data[\"index\"] > 0)]\n",
    "        insights=[]\n",
    "        insights.append(str(data[\"total\"].sum())+\" people died because of the accidents\")    \n",
    "        grafico = px.bar(data, x=\"index\", y=\"total\", color=\"tipo\", title=\"Deaths per accident\",labels={'index':'# of deaths','total':'Value','tipo':'Category'})    \n",
    "        return data, grafico, insights\n",
    "    \n",
    "    #4. Cantidad de accidentes con heridos\n",
    "    def cantidad_accidentes_con_heridos(self):\n",
    "        data_heridos = self.siniestros[\"injured_count\"].value_counts().to_frame()\n",
    "        data_heridos[\"tipo\"],data_heridos[\"total\"] = \"Heridos\",data_heridos[\"injured_count\"]\n",
    "        data = data_heridos\n",
    "        del data[\"injured_count\"]\n",
    "        data.reset_index(inplace=True)    \n",
    "        data = data[(data[\"index\"] > 0)]\n",
    "        insights=[]\n",
    "        insights.append(str(data[\"total\"].sum())+\" people got injuries as result of the accidents\")    \n",
    "        grafico = px.bar(data, x=\"index\", y=\"total\", color=\"tipo\", title=\"Injuries per accident\",labels={'index':'# of injuries','total':'Value','tipo':'Category'})    \n",
    "\n",
    "        return data, grafico, insights\n",
    "    \n",
    "    #5. Vehiculos con mayor presencia en accidentes\n",
    "    def accidentes_por_tipo_vehiculo(self):\n",
    "        data = self.siniestros[\"implicated_type\"].value_counts()\n",
    "        insights=[]    \n",
    "        insights.append(\"The type of vehicle with the most amount of accidents is \"+str(data.index[0])+\", followed by \"+str(data.index[1])+\" and \"+str(data.index[2])+\", with a total amount of \"+str(data.values[0])+\", \"+str(data.values[1])+\" and \"+str(data.values[2])+\" cases respectively.\")\n",
    "        grafico = px.bar(data, x=data.index, y=data,labels={'index':'Type of vehicle','y':'Amount'}, title=\"Accidents per vehicle type\")\n",
    "\n",
    "        return data, grafico, insights\n",
    "    \n",
    "    #6. El mayor tipo de accidente por zona\n",
    "    def tipo_accidentes_por_localidad(self):        \n",
    "        data = self.siniestros[[\"type\",\"location\"]].value_counts().reset_index().rename(columns={\"index\":\"localidad\", \"location\": \"localidad\",\"0\":\"total\"})    \n",
    "        data = data[data[\"localidad\"] != \"LOCATION MISSING\"]\n",
    "        data[\"total_accidentes\"]=data[0]\n",
    "        del data[0]\n",
    "\n",
    "        data_final = pd.DataFrame(columns = [\"localidad\"])\n",
    "        data.sort_values(by=['total_accidentes'],ascending=False,inplace=True)\n",
    "        for localidad in data[\"localidad\"].value_counts().index:        \n",
    "            data_final = pd.concat([data_final,data[data[\"localidad\"] == localidad].iloc[[0]]])\n",
    "\n",
    "        pol_copy = self.pol\n",
    "        data_chlo = pol_copy.merge(data_final,how=\"left\", on=\"localidad\").set_index(\"localidad\")\n",
    "\n",
    "        hover = [x for x in data_chlo[\"type\"].value_counts().index]\n",
    "\n",
    "        grafico = px.choropleth_mapbox(data_chlo,\n",
    "                                geojson=data_chlo.geometry,\n",
    "                                locations=data_chlo.index,\n",
    "                                color=\"total_accidentes\",\n",
    "                                    center={'lat': 4.601981275958889, 'lon': -74.0767720598354},\n",
    "                                mapbox_style=\"open-street-map\",\n",
    "                                hover_data=[\"type\"],\n",
    "                                color_continuous_scale=[\"green\",\"red\"],\n",
    "                                zoom=10,\n",
    "                                height=800\n",
    "                                )\n",
    "        insights=[]    \n",
    "        insights.append(\"The location with more accidents is \"+str(data_final.iloc[0][0])+\" with a total amount of \"+str(data_final.iloc[0][2])+\" cases of type \"+str(data_final.iloc[0][1])+\", followed by \"+str(data_final.iloc[1][0])+\" with \"+str(data_final.iloc[1][2])+\" cases of type \"+str(data_final.iloc[1][1]))    \n",
    "        insights.append(\"The location with less accidents is \"+str(data_final.iloc[-1][0])+\" with a total amount of \"+str(data_final.iloc[-1][2])+\" cases of type \"+str(data_final.iloc[-1][1]))    \n",
    "        return data_final, grafico, insights\n",
    "    \n",
    "    #7. Zonas con mayor accidentalidad por hora\n",
    "    def cantidad_accidentes_por_localidad_hora(self,hora):          \n",
    "        data = self.siniestros[[\"location\",\"hour\"]].value_counts().reset_index().rename(columns={\"index\":\"localidad\", \"location\": \"localidad\",\"0\":\"total\"})    \n",
    "        data = data[data[\"localidad\"] != \"LOCATION MISSING\"]\n",
    "        data[\"total_accidentes\"]=data[0]\n",
    "        data = data[data[\"hour\"] == hora]\n",
    "        data.reset_index(inplace=True)\n",
    "        del data[0],data[\"hour\"],data[\"index\"]\n",
    "\n",
    "        pol_copy = self.pol\n",
    "        data_chlo = pol_copy.merge(data,how=\"left\", on=\"localidad\").set_index(\"localidad\")\n",
    "\n",
    "        grafico = px.choropleth_mapbox(data_chlo,\n",
    "                                geojson=data_chlo.geometry,\n",
    "                                locations=data_chlo.index,\n",
    "                                color=\"total_accidentes\",\n",
    "                                    center={'lat': 4.601981275958889, 'lon': -74.0767720598354},\n",
    "                                mapbox_style=\"open-street-map\",   \n",
    "                                color_continuous_scale=[\"green\",\"red\"],                         \n",
    "                                zoom=10,\n",
    "                                height=800\n",
    "                                )\n",
    "        insights=[]    \n",
    "        insights.append(\"The location with more accidents at * is \"+str(data.iloc[0][0])+\" with a total amount of \"+str(data.iloc[0][1])+\" cases\")    \n",
    "        insights.append(\"The location with less accidents at * is \"+str(data.iloc[-1][0])+\" with a total amount of \"+str(data.iloc[-1][1])+\" cases\")    \n",
    "        return data, grafico, insights\n",
    "    \n",
    "    #8. Distribución de prioridades en los accidentes\n",
    "    def accidentes_por_prioridad(self):\n",
    "        data = self.siniestros[\"priority\"].value_counts()\n",
    "        insights=[]   \n",
    "        insights.append( \"The most frequent priority for accidents is \"+str(data.index[0])+\", followed by \"+str(data.index[1])+\", with an amount of \"+str(data.values[0])+\" and \"+str(data.values[1])+\" cases each.\")\n",
    "        grafico = px.bar(data, x=data.index, y=data,labels={'index':'Priority','y':'Amount'}, title=\"Accidents per priority\")\n",
    "\n",
    "        return data, grafico, insights\n",
    "    \n",
    "    #9. El mayor tipo de accidente por hora\n",
    "    def cantidad_accidentes_por_hora(self,hora):\n",
    "        data = self.siniestros[[\"hour\",\"type\"]].value_counts().sort_values().sort_index(kind='mergesort')\n",
    "        data = data.unstack(level=0).reset_index()[[\"type\",hora]].fillna(0)    \n",
    "        #print(data[\"type\"].to_frame().index)\n",
    "        data = pd.merge(data[\"type\"], data[hora], right_index = True,left_index = True)\n",
    "        data.rename(columns={hora: \"Cantidad\"},inplace=True)\n",
    "        data.sort_values(by=\"Cantidad\",ascending=False,inplace=True)\n",
    "\n",
    "        horaEnTexto = (\"0\"+str(hora) if hora < 10 else str(hora))+\":00\"\n",
    "        insights=[]\n",
    "\n",
    "        insights.append(\"At \"+horaEnTexto+\" hours, the most frequent accidents are \"+str(data.iloc[0][0])+\" and \"+str(data.iloc[1][0])+\", with a total amout of \"+str(data.iloc[0][1])+\" and \"+str(data.iloc[1][1])+\" cases.\")\n",
    "        grafico = px.bar(data, x=data[\"type\"], y=data[\"Cantidad\"],labels={'type':'Accident type','Cantidad':'Amount'}, title=\"Accident distribution at \"+horaEnTexto+\" hours\")\n",
    "\n",
    "        return data, grafico, insights\n",
    "    \n",
    "    \n",
    "    \n",
    "        \n",
    "        \n",
    "\"\"\"        \n",
    "insights = Insights()\n",
    "lista = insights.cantidad_accidentes_por_hora(10)\n",
    "print(lista[0])\n",
    "print(lista[2])\n",
    "lista[1].show()\n",
    "\"\"\""
   ]
  }
 ],
 "metadata": {
  "kernelspec": {
   "display_name": "Python 3 (ipykernel)",
   "language": "python",
   "name": "python3"
  },
  "language_info": {
   "codemirror_mode": {
    "name": "ipython",
    "version": 3
   },
   "file_extension": ".py",
   "mimetype": "text/x-python",
   "name": "python",
   "nbconvert_exporter": "python",
   "pygments_lexer": "ipython3",
   "version": "3.10.5"
  }
 },
 "nbformat": 4,
 "nbformat_minor": 5
}
