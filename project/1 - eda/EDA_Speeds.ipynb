{
 "cells": [
  {
   "cell_type": "markdown",
   "id": "998153ce",
   "metadata": {},
   "source": [
    "# EDA SPEEDS DATASET "
   ]
  },
  {
   "cell_type": "markdown",
   "id": "eabe21c5",
   "metadata": {},
   "source": [
    "This dataset consists of speeds captured with the Bitcarrier sensor system (real-time intelligent traffic flow information and monitoring system) from wireless WI-FI and Bluetooth sensors, emitted by mobile devices on the road network of Bogota D.C. for the month of January 2022. It is in CSV format and was extracted from the Open Data from the [Secretaría Distrital de Movilidad](https://datos.movilidadbogota.gov.co/datasets/movilidadbogota::velocidades-bitcarrier-enero2022-24h/explore?location=4.630679%2C-74.063436%2C15.98). Speeds correspond to quarter-hourly averages during 24 hours. The dataset has 2'660.955 observations and 23 columns. Some important features are the following:\n",
    "\n",
    "**OBJECT_ID**: Identifier of the measurement.\n",
    "\n",
    "**TID**: Identifier of the section of road where the speed is monitored. \n",
    "\n",
    "**INICIO, FIN**: Start and end date and hour of the measurement.\n",
    "\n",
    "**DISTANCE**: Length of the section of road.\n",
    "\n",
    "**VEL_PROMEDIO**: Average speed in the section of road.\n",
    "\n",
    "**NAME_FROM**: Name of the first address of the section of road.\n",
    "\n",
    "**NAME_TO**: Tuple consisting of the secondary start and end address of the section of road. \n",
    "\n",
    "Besides these, there's other features highlighting temporal aspects of the measurement like for example: (AÑO, HORA, CUARTO_HORA, DIA_SEMANA, MES). There's also a few features relating to the speed: (CODIGO, COEF_BRT, COEF_MIXTO, VEL_MEDIA_PONDERADA, VEL_MEDIA_BRT, VEL_MEDIA_MIXTO)."
   ]
  },
  {
   "cell_type": "code",
   "execution_count": 5,
   "id": "d441d234",
   "metadata": {},
   "outputs": [],
   "source": [
    "import pandas as pd\n",
    "import matplotlib.pyplot as plt\n",
    "import seaborn as sns"
   ]
  },
  {
   "cell_type": "code",
   "execution_count": 6,
   "id": "d7942d08",
   "metadata": {},
   "outputs": [],
   "source": [
    "speeds = pd.read_csv(\"../0 - datasets/Velocidades_Bitcarrier_Enero2022_24H_SUBSET.csv\", parse_dates=[\"INICIO\", \"FIN\"])\n",
    "pd.options.display.max_columns = None"
   ]
  },
  {
   "cell_type": "markdown",
   "id": "7de17b77",
   "metadata": {},
   "source": [
    "Let's look at the first columns:"
   ]
  },
  {
   "cell_type": "code",
   "execution_count": 7,
   "id": "03276144",
   "metadata": {},
   "outputs": [
    {
     "data": {
      "text/html": [
       "<div>\n",
       "<style scoped>\n",
       "    .dataframe tbody tr th:only-of-type {\n",
       "        vertical-align: middle;\n",
       "    }\n",
       "\n",
       "    .dataframe tbody tr th {\n",
       "        vertical-align: top;\n",
       "    }\n",
       "\n",
       "    .dataframe thead th {\n",
       "        text-align: right;\n",
       "    }\n",
       "</style>\n",
       "<table border=\"1\" class=\"dataframe\">\n",
       "  <thead>\n",
       "    <tr style=\"text-align: right;\">\n",
       "      <th></th>\n",
       "      <th>Unnamed: 0</th>\n",
       "      <th>OBJECTID</th>\n",
       "      <th>TID</th>\n",
       "      <th>INICIO</th>\n",
       "      <th>FIN</th>\n",
       "      <th>AÑO</th>\n",
       "      <th>HORA</th>\n",
       "      <th>DISTANCE</th>\n",
       "      <th>TYPE</th>\n",
       "      <th>VEL_PROMEDIO</th>\n",
       "      <th>CUARTO_HORA</th>\n",
       "      <th>DIA_SEMANA</th>\n",
       "      <th>MES</th>\n",
       "      <th>NAME_FROM</th>\n",
       "      <th>NAME_TO</th>\n",
       "      <th>VEL_PONDERADA</th>\n",
       "      <th>CODIGO</th>\n",
       "      <th>COEF_BRT</th>\n",
       "      <th>COEF_MIXTO</th>\n",
       "      <th>VEL_MEDIA_BRT</th>\n",
       "      <th>VEL_MEDIA_MIXTO</th>\n",
       "      <th>VEL_MEDIA_PONDERADA</th>\n",
       "      <th>NUMDISPOSITIVOS</th>\n",
       "      <th>SHAPE_Length</th>\n",
       "    </tr>\n",
       "  </thead>\n",
       "  <tbody>\n",
       "    <tr>\n",
       "      <th>0</th>\n",
       "      <td>0</td>\n",
       "      <td>1</td>\n",
       "      <td>1002075</td>\n",
       "      <td>2022-01-01 00:00:00+00:00</td>\n",
       "      <td>2022-01-01 00:14:59+00:00</td>\n",
       "      <td>2022</td>\n",
       "      <td>0</td>\n",
       "      <td>696.0</td>\n",
       "      <td>1.0</td>\n",
       "      <td>54.666667</td>\n",
       "      <td>12:00:00</td>\n",
       "      <td>Sabado</td>\n",
       "      <td>January</td>\n",
       "      <td>CL80</td>\n",
       "      <td>KR71;KR76</td>\n",
       "      <td>54.666667</td>\n",
       "      <td>NaN</td>\n",
       "      <td>NaN</td>\n",
       "      <td>NaN</td>\n",
       "      <td>NaN</td>\n",
       "      <td>NaN</td>\n",
       "      <td>NaN</td>\n",
       "      <td>3</td>\n",
       "      <td>0.006276</td>\n",
       "    </tr>\n",
       "    <tr>\n",
       "      <th>1</th>\n",
       "      <td>1</td>\n",
       "      <td>2</td>\n",
       "      <td>1002065</td>\n",
       "      <td>2022-01-01 00:00:00+00:00</td>\n",
       "      <td>2022-01-01 00:14:59+00:00</td>\n",
       "      <td>2022</td>\n",
       "      <td>0</td>\n",
       "      <td>684.0</td>\n",
       "      <td>1.0</td>\n",
       "      <td>34.620000</td>\n",
       "      <td>12:00:00</td>\n",
       "      <td>Sabado</td>\n",
       "      <td>January</td>\n",
       "      <td>KR19</td>\n",
       "      <td>CL140;CL147</td>\n",
       "      <td>34.620000</td>\n",
       "      <td>NaN</td>\n",
       "      <td>NaN</td>\n",
       "      <td>NaN</td>\n",
       "      <td>NaN</td>\n",
       "      <td>NaN</td>\n",
       "      <td>NaN</td>\n",
       "      <td>3</td>\n",
       "      <td>0.006185</td>\n",
       "    </tr>\n",
       "    <tr>\n",
       "      <th>2</th>\n",
       "      <td>2</td>\n",
       "      <td>3</td>\n",
       "      <td>1002042</td>\n",
       "      <td>2022-01-01 00:00:00+00:00</td>\n",
       "      <td>2022-01-01 00:14:59+00:00</td>\n",
       "      <td>2022</td>\n",
       "      <td>0</td>\n",
       "      <td>995.0</td>\n",
       "      <td>1.0</td>\n",
       "      <td>77.403333</td>\n",
       "      <td>12:00:00</td>\n",
       "      <td>Sabado</td>\n",
       "      <td>January</td>\n",
       "      <td>CL26</td>\n",
       "      <td>AV.ROJAS;NORMANDIA</td>\n",
       "      <td>75.920000</td>\n",
       "      <td>NaN</td>\n",
       "      <td>NaN</td>\n",
       "      <td>NaN</td>\n",
       "      <td>NaN</td>\n",
       "      <td>NaN</td>\n",
       "      <td>NaN</td>\n",
       "      <td>4</td>\n",
       "      <td>0.008991</td>\n",
       "    </tr>\n",
       "    <tr>\n",
       "      <th>3</th>\n",
       "      <td>3</td>\n",
       "      <td>4</td>\n",
       "      <td>1002078</td>\n",
       "      <td>2022-01-01 00:00:00+00:00</td>\n",
       "      <td>2022-01-01 00:14:59+00:00</td>\n",
       "      <td>2022</td>\n",
       "      <td>0</td>\n",
       "      <td>719.0</td>\n",
       "      <td>1.0</td>\n",
       "      <td>5.250000</td>\n",
       "      <td>12:00:00</td>\n",
       "      <td>Sabado</td>\n",
       "      <td>January</td>\n",
       "      <td>KR60</td>\n",
       "      <td>CL53;CL26</td>\n",
       "      <td>2.625000</td>\n",
       "      <td>NaN</td>\n",
       "      <td>NaN</td>\n",
       "      <td>NaN</td>\n",
       "      <td>NaN</td>\n",
       "      <td>NaN</td>\n",
       "      <td>NaN</td>\n",
       "      <td>2</td>\n",
       "      <td>0.006490</td>\n",
       "    </tr>\n",
       "    <tr>\n",
       "      <th>4</th>\n",
       "      <td>4</td>\n",
       "      <td>5</td>\n",
       "      <td>1002088</td>\n",
       "      <td>2022-01-01 00:00:00+00:00</td>\n",
       "      <td>2022-01-01 00:14:59+00:00</td>\n",
       "      <td>2022</td>\n",
       "      <td>0</td>\n",
       "      <td>441.0</td>\n",
       "      <td>1.0</td>\n",
       "      <td>39.696667</td>\n",
       "      <td>12:00:00</td>\n",
       "      <td>Sabado</td>\n",
       "      <td>January</td>\n",
       "      <td>KR86</td>\n",
       "      <td>CL19A;CL22</td>\n",
       "      <td>39.372500</td>\n",
       "      <td>NaN</td>\n",
       "      <td>NaN</td>\n",
       "      <td>NaN</td>\n",
       "      <td>NaN</td>\n",
       "      <td>NaN</td>\n",
       "      <td>NaN</td>\n",
       "      <td>4</td>\n",
       "      <td>0.003987</td>\n",
       "    </tr>\n",
       "  </tbody>\n",
       "</table>\n",
       "</div>"
      ],
      "text/plain": [
       "   Unnamed: 0  OBJECTID      TID                    INICIO  \\\n",
       "0           0         1  1002075 2022-01-01 00:00:00+00:00   \n",
       "1           1         2  1002065 2022-01-01 00:00:00+00:00   \n",
       "2           2         3  1002042 2022-01-01 00:00:00+00:00   \n",
       "3           3         4  1002078 2022-01-01 00:00:00+00:00   \n",
       "4           4         5  1002088 2022-01-01 00:00:00+00:00   \n",
       "\n",
       "                        FIN   AÑO  HORA  DISTANCE  TYPE  VEL_PROMEDIO  \\\n",
       "0 2022-01-01 00:14:59+00:00  2022     0     696.0   1.0     54.666667   \n",
       "1 2022-01-01 00:14:59+00:00  2022     0     684.0   1.0     34.620000   \n",
       "2 2022-01-01 00:14:59+00:00  2022     0     995.0   1.0     77.403333   \n",
       "3 2022-01-01 00:14:59+00:00  2022     0     719.0   1.0      5.250000   \n",
       "4 2022-01-01 00:14:59+00:00  2022     0     441.0   1.0     39.696667   \n",
       "\n",
       "  CUARTO_HORA DIA_SEMANA        MES NAME_FROM              NAME_TO  \\\n",
       "0    12:00:00     Sabado  January        CL80           KR71;KR76    \n",
       "1    12:00:00     Sabado  January        KR19         CL140;CL147    \n",
       "2    12:00:00     Sabado  January        CL26  AV.ROJAS;NORMANDIA    \n",
       "3    12:00:00     Sabado  January        KR60           CL53;CL26    \n",
       "4    12:00:00     Sabado  January        KR86          CL19A;CL22    \n",
       "\n",
       "   VEL_PONDERADA  CODIGO  COEF_BRT  COEF_MIXTO  VEL_MEDIA_BRT  \\\n",
       "0      54.666667     NaN       NaN         NaN            NaN   \n",
       "1      34.620000     NaN       NaN         NaN            NaN   \n",
       "2      75.920000     NaN       NaN         NaN            NaN   \n",
       "3       2.625000     NaN       NaN         NaN            NaN   \n",
       "4      39.372500     NaN       NaN         NaN            NaN   \n",
       "\n",
       "   VEL_MEDIA_MIXTO  VEL_MEDIA_PONDERADA  NUMDISPOSITIVOS  SHAPE_Length  \n",
       "0              NaN                  NaN                3      0.006276  \n",
       "1              NaN                  NaN                3      0.006185  \n",
       "2              NaN                  NaN                4      0.008991  \n",
       "3              NaN                  NaN                2      0.006490  \n",
       "4              NaN                  NaN                4      0.003987  "
      ]
     },
     "execution_count": 7,
     "metadata": {},
     "output_type": "execute_result"
    }
   ],
   "source": [
    "speeds.head()"
   ]
  },
  {
   "cell_type": "markdown",
   "id": "3a662e18",
   "metadata": {},
   "source": [
    "### Missing values"
   ]
  },
  {
   "cell_type": "markdown",
   "id": "b6c52eea",
   "metadata": {},
   "source": [
    "Let's examine the missing values:"
   ]
  },
  {
   "cell_type": "code",
   "execution_count": 8,
   "id": "449557a2",
   "metadata": {},
   "outputs": [
    {
     "data": {
      "text/plain": [
       "Unnamed: 0             False\n",
       "OBJECTID               False\n",
       "TID                    False\n",
       "INICIO                 False\n",
       "FIN                    False\n",
       "AÑO                    False\n",
       "HORA                   False\n",
       "DISTANCE                True\n",
       "TYPE                    True\n",
       "VEL_PROMEDIO           False\n",
       "CUARTO_HORA            False\n",
       "DIA_SEMANA             False\n",
       "MES                    False\n",
       "NAME_FROM               True\n",
       "NAME_TO                 True\n",
       "VEL_PONDERADA          False\n",
       "CODIGO                  True\n",
       "COEF_BRT                True\n",
       "COEF_MIXTO              True\n",
       "VEL_MEDIA_BRT           True\n",
       "VEL_MEDIA_MIXTO         True\n",
       "VEL_MEDIA_PONDERADA     True\n",
       "NUMDISPOSITIVOS        False\n",
       "SHAPE_Length           False\n",
       "dtype: bool"
      ]
     },
     "execution_count": 8,
     "metadata": {},
     "output_type": "execute_result"
    }
   ],
   "source": [
    "speeds.isnull().any()"
   ]
  },
  {
   "cell_type": "code",
   "execution_count": 9,
   "id": "30893a42",
   "metadata": {},
   "outputs": [
    {
     "data": {
      "text/plain": [
       "CODIGO                 True\n",
       "COEF_BRT               True\n",
       "COEF_MIXTO             True\n",
       "VEL_MEDIA_BRT          True\n",
       "VEL_MEDIA_MIXTO        True\n",
       "VEL_MEDIA_PONDERADA    True\n",
       "dtype: bool"
      ]
     },
     "execution_count": 9,
     "metadata": {},
     "output_type": "execute_result"
    }
   ],
   "source": [
    "x = speeds.isnull().all() \n",
    "x[x == True]"
   ]
  },
  {
   "cell_type": "markdown",
   "id": "c6c8f5ce",
   "metadata": {},
   "source": [
    "The DISTANCE, NAME_FROM y NAME_TO features have missing values.On the other hand, the features: CODIGO, COEF_BR, COEF_MIXTO, VEL_MEDIA_BRT, VEL_MEDIA_MIXTO y VEL_MEDIA_PONDERADA don't have values at all, so it's best to ignore them. "
   ]
  },
  {
   "cell_type": "code",
   "execution_count": 10,
   "id": "cf036b46",
   "metadata": {},
   "outputs": [
    {
     "data": {
      "text/html": [
       "<div>\n",
       "<style scoped>\n",
       "    .dataframe tbody tr th:only-of-type {\n",
       "        vertical-align: middle;\n",
       "    }\n",
       "\n",
       "    .dataframe tbody tr th {\n",
       "        vertical-align: top;\n",
       "    }\n",
       "\n",
       "    .dataframe thead th {\n",
       "        text-align: right;\n",
       "    }\n",
       "</style>\n",
       "<table border=\"1\" class=\"dataframe\">\n",
       "  <thead>\n",
       "    <tr style=\"text-align: right;\">\n",
       "      <th></th>\n",
       "      <th>Unnamed: 0</th>\n",
       "      <th>OBJECTID</th>\n",
       "      <th>TID</th>\n",
       "      <th>INICIO</th>\n",
       "      <th>FIN</th>\n",
       "      <th>AÑO</th>\n",
       "      <th>HORA</th>\n",
       "      <th>DISTANCE</th>\n",
       "      <th>TYPE</th>\n",
       "      <th>VEL_PROMEDIO</th>\n",
       "      <th>CUARTO_HORA</th>\n",
       "      <th>DIA_SEMANA</th>\n",
       "      <th>MES</th>\n",
       "      <th>NAME_FROM</th>\n",
       "      <th>NAME_TO</th>\n",
       "      <th>VEL_PONDERADA</th>\n",
       "      <th>NUMDISPOSITIVOS</th>\n",
       "      <th>SHAPE_Length</th>\n",
       "    </tr>\n",
       "  </thead>\n",
       "  <tbody>\n",
       "    <tr>\n",
       "      <th>0</th>\n",
       "      <td>0</td>\n",
       "      <td>1</td>\n",
       "      <td>1002075</td>\n",
       "      <td>2022-01-01 00:00:00+00:00</td>\n",
       "      <td>2022-01-01 00:14:59+00:00</td>\n",
       "      <td>2022</td>\n",
       "      <td>0</td>\n",
       "      <td>696.0</td>\n",
       "      <td>1.0</td>\n",
       "      <td>54.666667</td>\n",
       "      <td>12:00:00</td>\n",
       "      <td>Sabado</td>\n",
       "      <td>January</td>\n",
       "      <td>CL80</td>\n",
       "      <td>KR71;KR76</td>\n",
       "      <td>54.666667</td>\n",
       "      <td>3</td>\n",
       "      <td>0.006276</td>\n",
       "    </tr>\n",
       "    <tr>\n",
       "      <th>1</th>\n",
       "      <td>1</td>\n",
       "      <td>2</td>\n",
       "      <td>1002065</td>\n",
       "      <td>2022-01-01 00:00:00+00:00</td>\n",
       "      <td>2022-01-01 00:14:59+00:00</td>\n",
       "      <td>2022</td>\n",
       "      <td>0</td>\n",
       "      <td>684.0</td>\n",
       "      <td>1.0</td>\n",
       "      <td>34.620000</td>\n",
       "      <td>12:00:00</td>\n",
       "      <td>Sabado</td>\n",
       "      <td>January</td>\n",
       "      <td>KR19</td>\n",
       "      <td>CL140;CL147</td>\n",
       "      <td>34.620000</td>\n",
       "      <td>3</td>\n",
       "      <td>0.006185</td>\n",
       "    </tr>\n",
       "    <tr>\n",
       "      <th>2</th>\n",
       "      <td>2</td>\n",
       "      <td>3</td>\n",
       "      <td>1002042</td>\n",
       "      <td>2022-01-01 00:00:00+00:00</td>\n",
       "      <td>2022-01-01 00:14:59+00:00</td>\n",
       "      <td>2022</td>\n",
       "      <td>0</td>\n",
       "      <td>995.0</td>\n",
       "      <td>1.0</td>\n",
       "      <td>77.403333</td>\n",
       "      <td>12:00:00</td>\n",
       "      <td>Sabado</td>\n",
       "      <td>January</td>\n",
       "      <td>CL26</td>\n",
       "      <td>AV.ROJAS;NORMANDIA</td>\n",
       "      <td>75.920000</td>\n",
       "      <td>4</td>\n",
       "      <td>0.008991</td>\n",
       "    </tr>\n",
       "    <tr>\n",
       "      <th>3</th>\n",
       "      <td>3</td>\n",
       "      <td>4</td>\n",
       "      <td>1002078</td>\n",
       "      <td>2022-01-01 00:00:00+00:00</td>\n",
       "      <td>2022-01-01 00:14:59+00:00</td>\n",
       "      <td>2022</td>\n",
       "      <td>0</td>\n",
       "      <td>719.0</td>\n",
       "      <td>1.0</td>\n",
       "      <td>5.250000</td>\n",
       "      <td>12:00:00</td>\n",
       "      <td>Sabado</td>\n",
       "      <td>January</td>\n",
       "      <td>KR60</td>\n",
       "      <td>CL53;CL26</td>\n",
       "      <td>2.625000</td>\n",
       "      <td>2</td>\n",
       "      <td>0.006490</td>\n",
       "    </tr>\n",
       "    <tr>\n",
       "      <th>4</th>\n",
       "      <td>4</td>\n",
       "      <td>5</td>\n",
       "      <td>1002088</td>\n",
       "      <td>2022-01-01 00:00:00+00:00</td>\n",
       "      <td>2022-01-01 00:14:59+00:00</td>\n",
       "      <td>2022</td>\n",
       "      <td>0</td>\n",
       "      <td>441.0</td>\n",
       "      <td>1.0</td>\n",
       "      <td>39.696667</td>\n",
       "      <td>12:00:00</td>\n",
       "      <td>Sabado</td>\n",
       "      <td>January</td>\n",
       "      <td>KR86</td>\n",
       "      <td>CL19A;CL22</td>\n",
       "      <td>39.372500</td>\n",
       "      <td>4</td>\n",
       "      <td>0.003987</td>\n",
       "    </tr>\n",
       "  </tbody>\n",
       "</table>\n",
       "</div>"
      ],
      "text/plain": [
       "   Unnamed: 0  OBJECTID      TID                    INICIO  \\\n",
       "0           0         1  1002075 2022-01-01 00:00:00+00:00   \n",
       "1           1         2  1002065 2022-01-01 00:00:00+00:00   \n",
       "2           2         3  1002042 2022-01-01 00:00:00+00:00   \n",
       "3           3         4  1002078 2022-01-01 00:00:00+00:00   \n",
       "4           4         5  1002088 2022-01-01 00:00:00+00:00   \n",
       "\n",
       "                        FIN   AÑO  HORA  DISTANCE  TYPE  VEL_PROMEDIO  \\\n",
       "0 2022-01-01 00:14:59+00:00  2022     0     696.0   1.0     54.666667   \n",
       "1 2022-01-01 00:14:59+00:00  2022     0     684.0   1.0     34.620000   \n",
       "2 2022-01-01 00:14:59+00:00  2022     0     995.0   1.0     77.403333   \n",
       "3 2022-01-01 00:14:59+00:00  2022     0     719.0   1.0      5.250000   \n",
       "4 2022-01-01 00:14:59+00:00  2022     0     441.0   1.0     39.696667   \n",
       "\n",
       "  CUARTO_HORA DIA_SEMANA        MES NAME_FROM              NAME_TO  \\\n",
       "0    12:00:00     Sabado  January        CL80           KR71;KR76    \n",
       "1    12:00:00     Sabado  January        KR19         CL140;CL147    \n",
       "2    12:00:00     Sabado  January        CL26  AV.ROJAS;NORMANDIA    \n",
       "3    12:00:00     Sabado  January        KR60           CL53;CL26    \n",
       "4    12:00:00     Sabado  January        KR86          CL19A;CL22    \n",
       "\n",
       "   VEL_PONDERADA  NUMDISPOSITIVOS  SHAPE_Length  \n",
       "0      54.666667                3      0.006276  \n",
       "1      34.620000                3      0.006185  \n",
       "2      75.920000                4      0.008991  \n",
       "3       2.625000                2      0.006490  \n",
       "4      39.372500                4      0.003987  "
      ]
     },
     "execution_count": 10,
     "metadata": {},
     "output_type": "execute_result"
    }
   ],
   "source": [
    "null_cols = [\"CODIGO\", \"COEF_BRT\", \"COEF_MIXTO\", \"VEL_MEDIA_PONDERADA\", \"VEL_MEDIA_BRT\", \"VEL_MEDIA_MIXTO\"]\n",
    "speeds = speeds[[col for col in speeds.columns if col not in null_cols]]\n",
    "speeds.head()"
   ]
  },
  {
   "cell_type": "markdown",
   "id": "35c7883e",
   "metadata": {},
   "source": [
    "The columns where perhaps it is more significant the lack of values is in NAME_TO and NAME_FROM columns."
   ]
  },
  {
   "cell_type": "code",
   "execution_count": 11,
   "id": "8cd34c03",
   "metadata": {},
   "outputs": [
    {
     "data": {
      "text/html": [
       "<div>\n",
       "<style scoped>\n",
       "    .dataframe tbody tr th:only-of-type {\n",
       "        vertical-align: middle;\n",
       "    }\n",
       "\n",
       "    .dataframe tbody tr th {\n",
       "        vertical-align: top;\n",
       "    }\n",
       "\n",
       "    .dataframe thead th {\n",
       "        text-align: right;\n",
       "    }\n",
       "</style>\n",
       "<table border=\"1\" class=\"dataframe\">\n",
       "  <thead>\n",
       "    <tr style=\"text-align: right;\">\n",
       "      <th></th>\n",
       "      <th>Unnamed: 0</th>\n",
       "      <th>OBJECTID</th>\n",
       "      <th>TID</th>\n",
       "      <th>INICIO</th>\n",
       "      <th>FIN</th>\n",
       "      <th>AÑO</th>\n",
       "      <th>HORA</th>\n",
       "      <th>DISTANCE</th>\n",
       "      <th>TYPE</th>\n",
       "      <th>VEL_PROMEDIO</th>\n",
       "      <th>CUARTO_HORA</th>\n",
       "      <th>DIA_SEMANA</th>\n",
       "      <th>MES</th>\n",
       "      <th>NAME_FROM</th>\n",
       "      <th>NAME_TO</th>\n",
       "      <th>VEL_PONDERADA</th>\n",
       "      <th>NUMDISPOSITIVOS</th>\n",
       "      <th>SHAPE_Length</th>\n",
       "    </tr>\n",
       "  </thead>\n",
       "  <tbody>\n",
       "    <tr>\n",
       "      <th>27</th>\n",
       "      <td>27</td>\n",
       "      <td>28</td>\n",
       "      <td>1002311</td>\n",
       "      <td>2022-01-01 00:00:00+00:00</td>\n",
       "      <td>2022-01-01 00:14:59+00:00</td>\n",
       "      <td>2022</td>\n",
       "      <td>0</td>\n",
       "      <td>NaN</td>\n",
       "      <td>NaN</td>\n",
       "      <td>49.076667</td>\n",
       "      <td>12:00:00</td>\n",
       "      <td>Sabado</td>\n",
       "      <td>January</td>\n",
       "      <td>NaN</td>\n",
       "      <td>NaN</td>\n",
       "      <td>49.076667</td>\n",
       "      <td>3</td>\n",
       "      <td>0.0</td>\n",
       "    </tr>\n",
       "    <tr>\n",
       "      <th>39</th>\n",
       "      <td>39</td>\n",
       "      <td>40</td>\n",
       "      <td>1002452</td>\n",
       "      <td>2022-01-01 00:00:00+00:00</td>\n",
       "      <td>2022-01-01 00:14:59+00:00</td>\n",
       "      <td>2022</td>\n",
       "      <td>0</td>\n",
       "      <td>NaN</td>\n",
       "      <td>NaN</td>\n",
       "      <td>21.045000</td>\n",
       "      <td>12:00:00</td>\n",
       "      <td>Sabado</td>\n",
       "      <td>January</td>\n",
       "      <td>NaN</td>\n",
       "      <td>NaN</td>\n",
       "      <td>14.030000</td>\n",
       "      <td>3</td>\n",
       "      <td>0.0</td>\n",
       "    </tr>\n",
       "    <tr>\n",
       "      <th>40</th>\n",
       "      <td>40</td>\n",
       "      <td>41</td>\n",
       "      <td>1002428</td>\n",
       "      <td>2022-01-01 00:00:00+00:00</td>\n",
       "      <td>2022-01-01 00:14:59+00:00</td>\n",
       "      <td>2022</td>\n",
       "      <td>0</td>\n",
       "      <td>NaN</td>\n",
       "      <td>NaN</td>\n",
       "      <td>15.970000</td>\n",
       "      <td>12:00:00</td>\n",
       "      <td>Sabado</td>\n",
       "      <td>January</td>\n",
       "      <td>NaN</td>\n",
       "      <td>NaN</td>\n",
       "      <td>10.646667</td>\n",
       "      <td>3</td>\n",
       "      <td>0.0</td>\n",
       "    </tr>\n",
       "    <tr>\n",
       "      <th>43</th>\n",
       "      <td>43</td>\n",
       "      <td>44</td>\n",
       "      <td>1002392</td>\n",
       "      <td>2022-01-01 00:00:00+00:00</td>\n",
       "      <td>2022-01-01 00:14:59+00:00</td>\n",
       "      <td>2022</td>\n",
       "      <td>0</td>\n",
       "      <td>NaN</td>\n",
       "      <td>NaN</td>\n",
       "      <td>38.855000</td>\n",
       "      <td>12:00:00</td>\n",
       "      <td>Sabado</td>\n",
       "      <td>January</td>\n",
       "      <td>NaN</td>\n",
       "      <td>NaN</td>\n",
       "      <td>25.903333</td>\n",
       "      <td>3</td>\n",
       "      <td>0.0</td>\n",
       "    </tr>\n",
       "    <tr>\n",
       "      <th>52</th>\n",
       "      <td>52</td>\n",
       "      <td>53</td>\n",
       "      <td>1002448</td>\n",
       "      <td>2022-01-01 00:00:00+00:00</td>\n",
       "      <td>2022-01-01 00:14:59+00:00</td>\n",
       "      <td>2022</td>\n",
       "      <td>0</td>\n",
       "      <td>NaN</td>\n",
       "      <td>NaN</td>\n",
       "      <td>71.276667</td>\n",
       "      <td>12:00:00</td>\n",
       "      <td>Sabado</td>\n",
       "      <td>January</td>\n",
       "      <td>NaN</td>\n",
       "      <td>NaN</td>\n",
       "      <td>70.852500</td>\n",
       "      <td>4</td>\n",
       "      <td>0.0</td>\n",
       "    </tr>\n",
       "  </tbody>\n",
       "</table>\n",
       "</div>"
      ],
      "text/plain": [
       "    Unnamed: 0  OBJECTID      TID                    INICIO  \\\n",
       "27          27        28  1002311 2022-01-01 00:00:00+00:00   \n",
       "39          39        40  1002452 2022-01-01 00:00:00+00:00   \n",
       "40          40        41  1002428 2022-01-01 00:00:00+00:00   \n",
       "43          43        44  1002392 2022-01-01 00:00:00+00:00   \n",
       "52          52        53  1002448 2022-01-01 00:00:00+00:00   \n",
       "\n",
       "                         FIN   AÑO  HORA  DISTANCE  TYPE  VEL_PROMEDIO  \\\n",
       "27 2022-01-01 00:14:59+00:00  2022     0       NaN   NaN     49.076667   \n",
       "39 2022-01-01 00:14:59+00:00  2022     0       NaN   NaN     21.045000   \n",
       "40 2022-01-01 00:14:59+00:00  2022     0       NaN   NaN     15.970000   \n",
       "43 2022-01-01 00:14:59+00:00  2022     0       NaN   NaN     38.855000   \n",
       "52 2022-01-01 00:14:59+00:00  2022     0       NaN   NaN     71.276667   \n",
       "\n",
       "   CUARTO_HORA DIA_SEMANA        MES NAME_FROM NAME_TO  VEL_PONDERADA  \\\n",
       "27    12:00:00     Sabado  January         NaN     NaN      49.076667   \n",
       "39    12:00:00     Sabado  January         NaN     NaN      14.030000   \n",
       "40    12:00:00     Sabado  January         NaN     NaN      10.646667   \n",
       "43    12:00:00     Sabado  January         NaN     NaN      25.903333   \n",
       "52    12:00:00     Sabado  January         NaN     NaN      70.852500   \n",
       "\n",
       "    NUMDISPOSITIVOS  SHAPE_Length  \n",
       "27                3           0.0  \n",
       "39                3           0.0  \n",
       "40                3           0.0  \n",
       "43                3           0.0  \n",
       "52                4           0.0  "
      ]
     },
     "execution_count": 11,
     "metadata": {},
     "output_type": "execute_result"
    }
   ],
   "source": [
    "speeds[(speeds[\"NAME_TO\"].isnull()) | (speeds[\"NAME_FROM\"].isnull())].head()"
   ]
  },
  {
   "cell_type": "markdown",
   "id": "65087bf4",
   "metadata": {},
   "source": [
    "Fortunately there's only 7803 rows that have either missing NAME_TO or NAME_FROM features and it does not represent a significant portion of the data."
   ]
  },
  {
   "cell_type": "markdown",
   "id": "ec99112b",
   "metadata": {},
   "source": [
    "### Speeds analysis"
   ]
  },
  {
   "cell_type": "markdown",
   "id": "a3476fee",
   "metadata": {},
   "source": [
    "The VEL_PROMEDIO and VEL_PONDERADA columns seem to equal, lets compute the mean difference between them:"
   ]
  },
  {
   "cell_type": "code",
   "execution_count": 12,
   "id": "beb0f8c0",
   "metadata": {},
   "outputs": [
    {
     "data": {
      "text/plain": [
       "2.5493224925456808"
      ]
     },
     "execution_count": 12,
     "metadata": {},
     "output_type": "execute_result"
    }
   ],
   "source": [
    "(speeds[\"VEL_PROMEDIO\"] - speeds[\"VEL_PONDERADA\"]).mean()"
   ]
  },
  {
   "cell_type": "markdown",
   "id": "6103bf8e",
   "metadata": {},
   "source": [
    "As the mean difference is just about 1.5 km/h, we may dismiss one of them."
   ]
  },
  {
   "cell_type": "code",
   "execution_count": 13,
   "id": "52fb611d",
   "metadata": {},
   "outputs": [],
   "source": [
    "speeds = speeds[[col for col in speeds.columns if col != \"VEL_PONDERADA\"]]"
   ]
  },
  {
   "cell_type": "markdown",
   "id": "38e57191",
   "metadata": {},
   "source": [
    "Summary statistics:"
   ]
  },
  {
   "cell_type": "code",
   "execution_count": 14,
   "id": "424e13b8",
   "metadata": {},
   "outputs": [
    {
     "data": {
      "text/html": [
       "<div>\n",
       "<style scoped>\n",
       "    .dataframe tbody tr th:only-of-type {\n",
       "        vertical-align: middle;\n",
       "    }\n",
       "\n",
       "    .dataframe tbody tr th {\n",
       "        vertical-align: top;\n",
       "    }\n",
       "\n",
       "    .dataframe thead th {\n",
       "        text-align: right;\n",
       "    }\n",
       "</style>\n",
       "<table border=\"1\" class=\"dataframe\">\n",
       "  <thead>\n",
       "    <tr style=\"text-align: right;\">\n",
       "      <th></th>\n",
       "      <th>VEL_PROMEDIO</th>\n",
       "    </tr>\n",
       "  </thead>\n",
       "  <tbody>\n",
       "    <tr>\n",
       "      <th>count</th>\n",
       "      <td>250000.000000</td>\n",
       "    </tr>\n",
       "    <tr>\n",
       "      <th>mean</th>\n",
       "      <td>33.480127</td>\n",
       "    </tr>\n",
       "    <tr>\n",
       "      <th>std</th>\n",
       "      <td>14.834733</td>\n",
       "    </tr>\n",
       "    <tr>\n",
       "      <th>min</th>\n",
       "      <td>4.010000</td>\n",
       "    </tr>\n",
       "    <tr>\n",
       "      <th>25%</th>\n",
       "      <td>22.766250</td>\n",
       "    </tr>\n",
       "    <tr>\n",
       "      <th>50%</th>\n",
       "      <td>31.550000</td>\n",
       "    </tr>\n",
       "    <tr>\n",
       "      <th>75%</th>\n",
       "      <td>41.980000</td>\n",
       "    </tr>\n",
       "    <tr>\n",
       "      <th>max</th>\n",
       "      <td>185.503333</td>\n",
       "    </tr>\n",
       "  </tbody>\n",
       "</table>\n",
       "</div>"
      ],
      "text/plain": [
       "        VEL_PROMEDIO\n",
       "count  250000.000000\n",
       "mean       33.480127\n",
       "std        14.834733\n",
       "min         4.010000\n",
       "25%        22.766250\n",
       "50%        31.550000\n",
       "75%        41.980000\n",
       "max       185.503333"
      ]
     },
     "execution_count": 14,
     "metadata": {},
     "output_type": "execute_result"
    }
   ],
   "source": [
    "speeds[\"VEL_PROMEDIO\"].describe().to_frame()"
   ]
  },
  {
   "cell_type": "markdown",
   "id": "a2283f4c",
   "metadata": {},
   "source": [
    "Speeds distribution:"
   ]
  },
  {
   "cell_type": "code",
   "execution_count": 15,
   "id": "fa65bea3",
   "metadata": {},
   "outputs": [
    {
     "data": {
      "image/png": "[encoded data removed]",
      "text/plain": [
       "<Figure size 936x576 with 1 Axes>"
      ]
     },
     "metadata": {
      "needs_background": "light"
     },
     "output_type": "display_data"
    }
   ],
   "source": [
    "plt.figure(figsize=(13,8))\n",
    "sns.set(style=\"darkgrid\")\n",
    "sns.histplot(speeds[\"VEL_PROMEDIO\"])\n",
    "plt.title(\"Speeds distribution\")\n",
    "plt.ylabel(\"Number of observations\")\n",
    "plt.xlabel(\"Average Speed\")\n",
    "plt.axvline(x=speeds[\"VEL_PROMEDIO\"].mean(),\n",
    "            color='blue')\n",
    "plt.axvline(x=speeds[\"VEL_PROMEDIO\"].median(),\n",
    "            color='red')\n",
    "plt.show()"
   ]
  },
  {
   "cell_type": "markdown",
   "id": "f7a5bde2",
   "metadata": {},
   "source": [
    "### Speeds v.s. Time "
   ]
  },
  {
   "cell_type": "markdown",
   "id": "7b1c2613",
   "metadata": {},
   "source": [
    "As the all the data corresponds to the month of January of 2022. We may ignore the AÑO and MES columns as they are redundant"
   ]
  },
  {
   "cell_type": "code",
   "execution_count": 16,
   "id": "8f3df7be",
   "metadata": {},
   "outputs": [],
   "source": [
    "speeds = speeds[[col for col in speeds.columns if col not in [\"MES\", \"AÑO\"]]]"
   ]
  },
  {
   "cell_type": "markdown",
   "id": "c11037ed",
   "metadata": {},
   "source": [
    "Now let's visualize the average speed in Bogotá per hour of the day and per day of the week:"
   ]
  },
  {
   "cell_type": "code",
   "execution_count": 17,
   "id": "4cd6a42a",
   "metadata": {},
   "outputs": [
    {
     "data": {
      "image/png": "[encoded data removed]",
      "text/plain": [
       "<Figure size 936x576 with 1 Axes>"
      ]
     },
     "metadata": {},
     "output_type": "display_data"
    }
   ],
   "source": [
    "speeds_per_hour = speeds.groupby(\"HORA\")[\"VEL_PROMEDIO\"].mean().to_frame().reset_index()\n",
    "\n",
    "plt.figure(figsize=(13,8))\n",
    "sns.barplot(x=\"HORA\", y=\"VEL_PROMEDIO\", data=speeds_per_hour, palette=\"Greens_d\") \n",
    "plt.title('Distribution of speeds per hour')\n",
    "plt.xlabel('Hour')\n",
    "plt.ylabel('Average speed')\n",
    "plt.show()"
   ]
  },
  {
   "cell_type": "markdown",
   "id": "ada95b4c",
   "metadata": {},
   "source": [
    "As expected people go faster late at night, perhaps because there's less traffic and people in general at those times. Meanwhile from 6 a.m to 5 p.m, the speeds decrease plateauning around 25 km/h."
   ]
  },
  {
   "cell_type": "code",
   "execution_count": 18,
   "id": "abcff970",
   "metadata": {},
   "outputs": [
    {
     "data": {
      "image/png": "[encoded data removed]",
      "text/plain": [
       "<Figure size 936x576 with 1 Axes>"
      ]
     },
     "metadata": {},
     "output_type": "display_data"
    }
   ],
   "source": [
    "speeds_per_day_of_week = speeds.groupby(\"DIA_SEMANA\")[\"VEL_PROMEDIO\"].mean().to_frame().reset_index()\n",
    "\n",
    "plt.figure(figsize=(13,8))\n",
    "sns.barplot(x=\"DIA_SEMANA\", y=\"VEL_PROMEDIO\", data=speeds_per_day_of_week, palette=\"Blues_d\")\n",
    "plt.title('Distribution of speeds per day of week')\n",
    "plt.xlabel('Hour')\n",
    "plt.ylabel('Average speed')\n",
    "plt.show()"
   ]
  },
  {
   "cell_type": "markdown",
   "id": "5e9b145b",
   "metadata": {},
   "source": [
    "The average speed does not seem to be affected by the day of the week."
   ]
  },
  {
   "cell_type": "markdown",
   "id": "aa7cc80a",
   "metadata": {},
   "source": [
    "## Speeds per location"
   ]
  },
  {
   "cell_type": "code",
   "execution_count": 19,
   "id": "7d02ed35",
   "metadata": {},
   "outputs": [
    {
     "data": {
      "text/html": [
       "<div>\n",
       "<style scoped>\n",
       "    .dataframe tbody tr th:only-of-type {\n",
       "        vertical-align: middle;\n",
       "    }\n",
       "\n",
       "    .dataframe tbody tr th {\n",
       "        vertical-align: top;\n",
       "    }\n",
       "\n",
       "    .dataframe thead th {\n",
       "        text-align: right;\n",
       "    }\n",
       "</style>\n",
       "<table border=\"1\" class=\"dataframe\">\n",
       "  <thead>\n",
       "    <tr style=\"text-align: right;\">\n",
       "      <th></th>\n",
       "      <th>VEL_PROMEDIO</th>\n",
       "    </tr>\n",
       "    <tr>\n",
       "      <th>NAME_FROM</th>\n",
       "      <th></th>\n",
       "    </tr>\n",
       "  </thead>\n",
       "  <tbody>\n",
       "    <tr>\n",
       "      <th>AV.AMERICAS,KR50</th>\n",
       "      <td>71.698369</td>\n",
       "    </tr>\n",
       "    <tr>\n",
       "      <th>CL26</th>\n",
       "      <td>56.428882</td>\n",
       "    </tr>\n",
       "    <tr>\n",
       "      <th>AV.CL59SUR</th>\n",
       "      <td>49.988409</td>\n",
       "    </tr>\n",
       "    <tr>\n",
       "      <th>AUTONORTE</th>\n",
       "      <td>49.974148</td>\n",
       "    </tr>\n",
       "    <tr>\n",
       "      <th>AV.CIRCUNVALAR</th>\n",
       "      <td>48.672416</td>\n",
       "    </tr>\n",
       "  </tbody>\n",
       "</table>\n",
       "</div>"
      ],
      "text/plain": [
       "                  VEL_PROMEDIO\n",
       "NAME_FROM                     \n",
       "AV.AMERICAS,KR50     71.698369\n",
       "CL26                 56.428882\n",
       "AV.CL59SUR           49.988409\n",
       "AUTONORTE            49.974148\n",
       "AV.CIRCUNVALAR       48.672416"
      ]
     },
     "execution_count": 19,
     "metadata": {},
     "output_type": "execute_result"
    }
   ],
   "source": [
    "speeds.groupby(\"NAME_FROM\")[\"VEL_PROMEDIO\"].mean().sort_values(ascending=False).to_frame().head(5)"
   ]
  },
  {
   "cell_type": "code",
   "execution_count": 20,
   "id": "0373749d",
   "metadata": {},
   "outputs": [
    {
     "data": {
      "text/html": [
       "<div>\n",
       "<style scoped>\n",
       "    .dataframe tbody tr th:only-of-type {\n",
       "        vertical-align: middle;\n",
       "    }\n",
       "\n",
       "    .dataframe tbody tr th {\n",
       "        vertical-align: top;\n",
       "    }\n",
       "\n",
       "    .dataframe thead th {\n",
       "        text-align: right;\n",
       "    }\n",
       "</style>\n",
       "<table border=\"1\" class=\"dataframe\">\n",
       "  <thead>\n",
       "    <tr style=\"text-align: right;\">\n",
       "      <th></th>\n",
       "      <th>VEL_PROMEDIO</th>\n",
       "    </tr>\n",
       "    <tr>\n",
       "      <th>NAME_FROM</th>\n",
       "      <th></th>\n",
       "    </tr>\n",
       "  </thead>\n",
       "  <tbody>\n",
       "    <tr>\n",
       "      <th>CL39</th>\n",
       "      <td>10.208952</td>\n",
       "    </tr>\n",
       "    <tr>\n",
       "      <th>CL66A</th>\n",
       "      <td>13.265510</td>\n",
       "    </tr>\n",
       "    <tr>\n",
       "      <th>CL57</th>\n",
       "      <td>13.480464</td>\n",
       "    </tr>\n",
       "    <tr>\n",
       "      <th>CL19,KR3</th>\n",
       "      <td>14.255335</td>\n",
       "    </tr>\n",
       "    <tr>\n",
       "      <th>CL22</th>\n",
       "      <td>14.768908</td>\n",
       "    </tr>\n",
       "  </tbody>\n",
       "</table>\n",
       "</div>"
      ],
      "text/plain": [
       "           VEL_PROMEDIO\n",
       "NAME_FROM              \n",
       "CL39          10.208952\n",
       "CL66A         13.265510\n",
       "CL57          13.480464\n",
       "CL19,KR3      14.255335\n",
       "CL22          14.768908"
      ]
     },
     "execution_count": 20,
     "metadata": {},
     "output_type": "execute_result"
    }
   ],
   "source": [
    "speeds.groupby(\"NAME_FROM\")[\"VEL_PROMEDIO\"].mean().sort_values().to_frame().head(5)"
   ]
  }
 ],
 "metadata": {
  "interpreter": {
   "hash": "d4d1e4263499bec80672ea0156c357c1ee493ec2b1c70f0acce89fc37c4a6abe"
  },
  "kernelspec": {
   "display_name": "Python 3.9.12 ('base')",
   "language": "python",
   "name": "python3"
  },
  "language_info": {
   "codemirror_mode": {
    "name": "ipython",
    "version": 3
   },
   "file_extension": ".py",
   "mimetype": "text/x-python",
   "name": "python",
   "nbconvert_exporter": "python",
   "pygments_lexer": "ipython3",
   "version": "3.9.12"
  }
 },
 "nbformat": 4,
 "nbformat_minor": 5
}
