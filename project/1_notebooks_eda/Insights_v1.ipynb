{
 "cells": [
  {
   "cell_type": "markdown",
   "id": "444162fe",
   "metadata": {},
   "source": [
    "## Insights"
   ]
  },
  {
   "cell_type": "code",
   "execution_count": 5,
   "id": "510f72b0",
   "metadata": {},
   "outputs": [],
   "source": [
    "import pandas as pd\n",
    "import numpy as np"
   ]
  },
  {
   "cell_type": "markdown",
   "id": "0b751f41",
   "metadata": {},
   "source": [
    "***Paso 1:*** Cargar la data."
   ]
  },
  {
   "cell_type": "code",
   "execution_count": 72,
   "id": "55dde640",
   "metadata": {},
   "outputs": [
    {
     "data": {
      "text/html": [
       "<div>\n",
       "<style scoped>\n",
       "    .dataframe tbody tr th:only-of-type {\n",
       "        vertical-align: middle;\n",
       "    }\n",
       "\n",
       "    .dataframe tbody tr th {\n",
       "        vertical-align: top;\n",
       "    }\n",
       "\n",
       "    .dataframe thead th {\n",
       "        text-align: right;\n",
       "    }\n",
       "</style>\n",
       "<table border=\"1\" class=\"dataframe\">\n",
       "  <thead>\n",
       "    <tr style=\"text-align: right;\">\n",
       "      <th></th>\n",
       "      <th>id</th>\n",
       "      <th>dev_id</th>\n",
       "      <th>read_time</th>\n",
       "      <th>time_stamp</th>\n",
       "      <th>speed</th>\n",
       "      <th>grp_name</th>\n",
       "      <th>localidad</th>\n",
       "      <th>latitude</th>\n",
       "      <th>longitude</th>\n",
       "      <th>devicegroupid</th>\n",
       "    </tr>\n",
       "  </thead>\n",
       "  <tbody>\n",
       "    <tr>\n",
       "      <th>0</th>\n",
       "      <td>1641013210</td>\n",
       "      <td>868033050090275</td>\n",
       "      <td>2022-01-01 00:00:10</td>\n",
       "      <td>2022-01-01 00:00:04</td>\n",
       "      <td>5.700076</td>\n",
       "      <td>S60</td>\n",
       "      <td>PUENTE ARANDA</td>\n",
       "      <td>4.615435</td>\n",
       "      <td>-74.10485</td>\n",
       "      <td>6</td>\n",
       "    </tr>\n",
       "    <tr>\n",
       "      <th>1</th>\n",
       "      <td>1641013811</td>\n",
       "      <td>868033050090275</td>\n",
       "      <td>2022-01-01 00:10:11</td>\n",
       "      <td>2022-01-01 00:00:04</td>\n",
       "      <td>5.700076</td>\n",
       "      <td>S60</td>\n",
       "      <td>PUENTE ARANDA</td>\n",
       "      <td>4.615435</td>\n",
       "      <td>-74.10485</td>\n",
       "      <td>6</td>\n",
       "    </tr>\n",
       "    <tr>\n",
       "      <th>2</th>\n",
       "      <td>1641014411</td>\n",
       "      <td>868033050090275</td>\n",
       "      <td>2022-01-01 00:20:11</td>\n",
       "      <td>2022-01-01 00:00:04</td>\n",
       "      <td>5.700076</td>\n",
       "      <td>S60</td>\n",
       "      <td>PUENTE ARANDA</td>\n",
       "      <td>4.615435</td>\n",
       "      <td>-74.10485</td>\n",
       "      <td>6</td>\n",
       "    </tr>\n",
       "    <tr>\n",
       "      <th>3</th>\n",
       "      <td>1641015012</td>\n",
       "      <td>868033050090275</td>\n",
       "      <td>2022-01-01 00:30:12</td>\n",
       "      <td>2022-01-01 00:00:04</td>\n",
       "      <td>5.700076</td>\n",
       "      <td>S60</td>\n",
       "      <td>PUENTE ARANDA</td>\n",
       "      <td>4.615435</td>\n",
       "      <td>-74.10485</td>\n",
       "      <td>6</td>\n",
       "    </tr>\n",
       "    <tr>\n",
       "      <th>4</th>\n",
       "      <td>1641015613</td>\n",
       "      <td>868033050090275</td>\n",
       "      <td>2022-01-01 00:40:13</td>\n",
       "      <td>2022-01-01 00:00:04</td>\n",
       "      <td>5.700076</td>\n",
       "      <td>S60</td>\n",
       "      <td>PUENTE ARANDA</td>\n",
       "      <td>4.615435</td>\n",
       "      <td>-74.10485</td>\n",
       "      <td>6</td>\n",
       "    </tr>\n",
       "  </tbody>\n",
       "</table>\n",
       "</div>"
      ],
      "text/plain": [
       "           id           dev_id            read_time           time_stamp  \\\n",
       "0  1641013210  868033050090275  2022-01-01 00:00:10  2022-01-01 00:00:04   \n",
       "1  1641013811  868033050090275  2022-01-01 00:10:11  2022-01-01 00:00:04   \n",
       "2  1641014411  868033050090275  2022-01-01 00:20:11  2022-01-01 00:00:04   \n",
       "3  1641015012  868033050090275  2022-01-01 00:30:12  2022-01-01 00:00:04   \n",
       "4  1641015613  868033050090275  2022-01-01 00:40:13  2022-01-01 00:00:04   \n",
       "\n",
       "      speed grp_name      localidad  latitude  longitude  devicegroupid  \n",
       "0  5.700076      S60  PUENTE ARANDA  4.615435  -74.10485              6  \n",
       "1  5.700076      S60  PUENTE ARANDA  4.615435  -74.10485              6  \n",
       "2  5.700076      S60  PUENTE ARANDA  4.615435  -74.10485              6  \n",
       "3  5.700076      S60  PUENTE ARANDA  4.615435  -74.10485              6  \n",
       "4  5.700076      S60  PUENTE ARANDA  4.615435  -74.10485              6  "
      ]
     },
     "execution_count": 72,
     "metadata": {},
     "output_type": "execute_result"
    }
   ],
   "source": [
    "agents = pd.read_csv('agents.csv.gz', compression='gzip', \n",
    "                                 header=0, sep=',', quotechar='\"')\n",
    "\n",
    "agents.head(5)"
   ]
  },
  {
   "cell_type": "code",
   "execution_count": 96,
   "id": "992ec713",
   "metadata": {},
   "outputs": [
    {
     "data": {
      "text/html": [
       "<div>\n",
       "<style scoped>\n",
       "    .dataframe tbody tr th:only-of-type {\n",
       "        vertical-align: middle;\n",
       "    }\n",
       "\n",
       "    .dataframe tbody tr th {\n",
       "        vertical-align: top;\n",
       "    }\n",
       "\n",
       "    .dataframe thead th {\n",
       "        text-align: right;\n",
       "    }\n",
       "</style>\n",
       "<table border=\"1\" class=\"dataframe\">\n",
       "  <thead>\n",
       "    <tr style=\"text-align: right;\">\n",
       "      <th></th>\n",
       "      <th>id</th>\n",
       "      <th>source</th>\n",
       "      <th>type</th>\n",
       "      <th>state</th>\n",
       "      <th>priority</th>\n",
       "      <th>gravity</th>\n",
       "      <th>class</th>\n",
       "      <th>object</th>\n",
       "      <th>latitude</th>\n",
       "      <th>longitude</th>\n",
       "      <th>location</th>\n",
       "      <th>broker_id</th>\n",
       "      <th>implicated</th>\n",
       "      <th>address</th>\n",
       "      <th>zone_id</th>\n",
       "      <th>orient</th>\n",
       "      <th>incident_time</th>\n",
       "      <th>implicated_type</th>\n",
       "      <th>injured_count</th>\n",
       "      <th>dead_count</th>\n",
       "    </tr>\n",
       "  </thead>\n",
       "  <tbody>\n",
       "    <tr>\n",
       "      <th>0</th>\n",
       "      <td>10667</td>\n",
       "      <td>NUSE</td>\n",
       "      <td>Choque</td>\n",
       "      <td>Cerrado</td>\n",
       "      <td>2.0</td>\n",
       "      <td>Con lesionado</td>\n",
       "      <td>Siniestro</td>\n",
       "      <td>NaN</td>\n",
       "      <td>4.600568</td>\n",
       "      <td>-74.178246</td>\n",
       "      <td>BOSA</td>\n",
       "      <td>NaN</td>\n",
       "      <td>2.0</td>\n",
       "      <td>Calle 59 SUR Carrera 77K BIS A</td>\n",
       "      <td>Zona 2</td>\n",
       "      <td>Oriente - Occidente</td>\n",
       "      <td>2021-12-31 23:40:00</td>\n",
       "      <td>Motocicleta</td>\n",
       "      <td>1.0</td>\n",
       "      <td>0.0</td>\n",
       "    </tr>\n",
       "    <tr>\n",
       "      <th>1</th>\n",
       "      <td>10667</td>\n",
       "      <td>NUSE</td>\n",
       "      <td>Choque</td>\n",
       "      <td>Cerrado</td>\n",
       "      <td>2.0</td>\n",
       "      <td>Con lesionado</td>\n",
       "      <td>Siniestro</td>\n",
       "      <td>NaN</td>\n",
       "      <td>4.600568</td>\n",
       "      <td>-74.178246</td>\n",
       "      <td>BOSA</td>\n",
       "      <td>NaN</td>\n",
       "      <td>2.0</td>\n",
       "      <td>Calle 59 SUR Carrera 77K BIS A</td>\n",
       "      <td>Zona 2</td>\n",
       "      <td>Oriente - Occidente</td>\n",
       "      <td>2021-12-31 23:40:00</td>\n",
       "      <td>Motocicleta</td>\n",
       "      <td>1.0</td>\n",
       "      <td>0.0</td>\n",
       "    </tr>\n",
       "    <tr>\n",
       "      <th>2</th>\n",
       "      <td>10668</td>\n",
       "      <td>NUSE</td>\n",
       "      <td>Choque</td>\n",
       "      <td>Cerrado</td>\n",
       "      <td>2.0</td>\n",
       "      <td>Con lesionado</td>\n",
       "      <td>Siniestro</td>\n",
       "      <td>NaN</td>\n",
       "      <td>4.619570</td>\n",
       "      <td>-74.139442</td>\n",
       "      <td>KENNEDY</td>\n",
       "      <td>Av Boyacá NS</td>\n",
       "      <td>2.0</td>\n",
       "      <td>Av. Boyacá  Calle 15F SUR</td>\n",
       "      <td>Zona 2</td>\n",
       "      <td>Norte - sur</td>\n",
       "      <td>2021-12-31 11:38:00</td>\n",
       "      <td>Automóvil</td>\n",
       "      <td>0.0</td>\n",
       "      <td>0.0</td>\n",
       "    </tr>\n",
       "    <tr>\n",
       "      <th>3</th>\n",
       "      <td>10668</td>\n",
       "      <td>NUSE</td>\n",
       "      <td>Choque</td>\n",
       "      <td>Cerrado</td>\n",
       "      <td>2.0</td>\n",
       "      <td>Con lesionado</td>\n",
       "      <td>Siniestro</td>\n",
       "      <td>NaN</td>\n",
       "      <td>4.619570</td>\n",
       "      <td>-74.139442</td>\n",
       "      <td>KENNEDY</td>\n",
       "      <td>Av Boyacá NS</td>\n",
       "      <td>2.0</td>\n",
       "      <td>Av. Boyacá  Calle 15F SUR</td>\n",
       "      <td>Zona 2</td>\n",
       "      <td>Norte - sur</td>\n",
       "      <td>2021-12-31 11:38:00</td>\n",
       "      <td>Motocicleta</td>\n",
       "      <td>1.0</td>\n",
       "      <td>0.0</td>\n",
       "    </tr>\n",
       "    <tr>\n",
       "      <th>4</th>\n",
       "      <td>10669</td>\n",
       "      <td>NUSE</td>\n",
       "      <td>Choque</td>\n",
       "      <td>Cerrado</td>\n",
       "      <td>2.0</td>\n",
       "      <td>Con lesionado</td>\n",
       "      <td>Siniestro</td>\n",
       "      <td>NaN</td>\n",
       "      <td>4.539066</td>\n",
       "      <td>-74.135452</td>\n",
       "      <td>CIUDAD BOLIVAR</td>\n",
       "      <td>NaN</td>\n",
       "      <td>2.0</td>\n",
       "      <td>Calle 76A SUR Carrera 15</td>\n",
       "      <td>Zona 2</td>\n",
       "      <td>Oriente - Occidente</td>\n",
       "      <td>2022-01-01 00:20:00</td>\n",
       "      <td>Automóvil</td>\n",
       "      <td>0.0</td>\n",
       "      <td>0.0</td>\n",
       "    </tr>\n",
       "  </tbody>\n",
       "</table>\n",
       "</div>"
      ],
      "text/plain": [
       "      id source    type    state  priority        gravity      class object  \\\n",
       "0  10667   NUSE  Choque  Cerrado       2.0  Con lesionado  Siniestro    NaN   \n",
       "1  10667   NUSE  Choque  Cerrado       2.0  Con lesionado  Siniestro    NaN   \n",
       "2  10668   NUSE  Choque  Cerrado       2.0  Con lesionado  Siniestro    NaN   \n",
       "3  10668   NUSE  Choque  Cerrado       2.0  Con lesionado  Siniestro    NaN   \n",
       "4  10669   NUSE  Choque  Cerrado       2.0  Con lesionado  Siniestro    NaN   \n",
       "\n",
       "   latitude  longitude        location     broker_id  implicated  \\\n",
       "0  4.600568 -74.178246            BOSA           NaN         2.0   \n",
       "1  4.600568 -74.178246            BOSA           NaN         2.0   \n",
       "2  4.619570 -74.139442         KENNEDY  Av Boyacá NS         2.0   \n",
       "3  4.619570 -74.139442         KENNEDY  Av Boyacá NS         2.0   \n",
       "4  4.539066 -74.135452  CIUDAD BOLIVAR           NaN         2.0   \n",
       "\n",
       "                          address zone_id               orient  \\\n",
       "0  Calle 59 SUR Carrera 77K BIS A  Zona 2  Oriente - Occidente   \n",
       "1  Calle 59 SUR Carrera 77K BIS A  Zona 2  Oriente - Occidente   \n",
       "2       Av. Boyacá  Calle 15F SUR  Zona 2          Norte - sur   \n",
       "3       Av. Boyacá  Calle 15F SUR  Zona 2          Norte - sur   \n",
       "4        Calle 76A SUR Carrera 15  Zona 2  Oriente - Occidente   \n",
       "\n",
       "         incident_time implicated_type  injured_count  dead_count  \n",
       "0  2021-12-31 23:40:00     Motocicleta            1.0         0.0  \n",
       "1  2021-12-31 23:40:00     Motocicleta            1.0         0.0  \n",
       "2  2021-12-31 11:38:00       Automóvil            0.0         0.0  \n",
       "3  2021-12-31 11:38:00     Motocicleta            1.0         0.0  \n",
       "4  2022-01-01 00:20:00       Automóvil            0.0         0.0  "
      ]
     },
     "execution_count": 96,
     "metadata": {},
     "output_type": "execute_result"
    }
   ],
   "source": [
    "incidents = pd.read_csv('incidents.csv.gz', compression='gzip', \n",
    "                                 header=0, sep=',', quotechar='\"')\n",
    "\n",
    "incidents.head(5)\n"
   ]
  },
  {
   "cell_type": "markdown",
   "id": "99f63b64",
   "metadata": {},
   "source": [
    "***Paso 2:*** Limpiar la data"
   ]
  },
  {
   "cell_type": "code",
   "execution_count": 47,
   "id": "6dce2761",
   "metadata": {},
   "outputs": [
    {
     "name": "stdout",
     "output_type": "stream",
     "text": [
      "Index(['type', 'priority', 'gravity', 'object', 'broker_id', 'implicated',\n",
      "       'implicated_type', 'injured_count', 'dead_count'],\n",
      "      dtype='object')\n"
     ]
    }
   ],
   "source": [
    "camposNaN = pd.Series(incidents.isna().any())\n",
    "camposNaN = camposNaN[camposNaN != False].index\n",
    "\n",
    "print(camposNaN)\n",
    "\n",
    "#Estrategia de limpieza 1: DropNA / Rechazado, pasa de 114260 registros a 314.\n",
    "#incidents.dropna(inplace=True)\n",
    "\n",
    "#Estrategia de limpieza 2: Interpolación / Verificar"
   ]
  },
  {
   "cell_type": "markdown",
   "id": "87619cdc",
   "metadata": {},
   "source": [
    "***Paso 3:*** Feature Engineering"
   ]
  },
  {
   "cell_type": "code",
   "execution_count": 48,
   "id": "0ac42984",
   "metadata": {},
   "outputs": [],
   "source": [
    "incidents[\"hour\"] = pd.to_datetime(incidents[\"incident_time\"]).dt.hour"
   ]
  },
  {
   "cell_type": "code",
   "execution_count": 73,
   "id": "2e5135d4",
   "metadata": {},
   "outputs": [],
   "source": [
    "agents[\"hour\"] = pd.to_datetime(agents[\"time_stamp\"]).dt.hour"
   ]
  },
  {
   "cell_type": "markdown",
   "id": "4cf16742",
   "metadata": {},
   "source": [
    "***Paso 4:*** Generación de indicadores"
   ]
  },
  {
   "cell_type": "code",
   "execution_count": 77,
   "id": "1c934532",
   "metadata": {
    "scrolled": true
   },
   "outputs": [
    {
     "data": {
      "text/plain": [
       "Choque                       101378\n",
       "Autolesiones                   3282\n",
       "Mantenimiento correctivo       2137\n",
       "Mantenimiento preventivo       1507\n",
       "Choque contra objeto fijo      1460\n",
       "Falla de energía                831\n",
       "Caída de ocupante               533\n",
       "Volcamiento                     291\n",
       "Caída de árbol                  265\n",
       "Reprogramación de equipo        237\n",
       "Otros                           159\n",
       "Objetos en vía                  159\n",
       "Empozamiento o inundación       114\n",
       "Mancha en vía                   106\n",
       "Aprisionamiento                  72\n",
       "Choque con volcamiento           63\n",
       "Estudiantes                      48\n",
       "Incendio vehicular               38\n",
       "Caída poste                      34\n",
       "Materiales peligrosos            26\n",
       "Posteria semáforos               23\n",
       "Conductores                      22\n",
       "Falla por sieniestro             19\n",
       "Profesores                        6\n",
       "Taxistas                          3\n",
       "Name: type, dtype: int64"
      ]
     },
     "execution_count": 77,
     "metadata": {},
     "output_type": "execute_result"
    }
   ],
   "source": [
    "#El mayor tipo de accidente\n",
    "incidents[\"type\"].value_counts()"
   ]
  },
  {
   "cell_type": "code",
   "execution_count": 98,
   "id": "5257e289",
   "metadata": {},
   "outputs": [
    {
     "data": {
      "text/plain": [
       "KENNEDY               15500\n",
       "SUBA                  13225\n",
       "ENGATIVA              11883\n",
       "USAQUEN                8880\n",
       "FONTIBON               8270\n",
       "PUENTE ARANDA          6816\n",
       "BOSA                   5777\n",
       "CHAPINERO              5628\n",
       "CIUDAD BOLIVAR         5567\n",
       "BARRIOS UNIDOS         5211\n",
       "TEUSAQUILLO            5197\n",
       "RAFAEL URIBE URIBE     4011\n",
       "LOS MARTIRES           3647\n",
       "SAN CRISTOBAL          3440\n",
       "SANTA FE               3115\n",
       "TUNJUELITO             2869\n",
       "ANTONIO NARIÑO         2418\n",
       "USME                   2269\n",
       "LA CANDELARIA           462\n",
       "LOCATION MISSING         75\n",
       "Name: location, dtype: int64"
      ]
     },
     "execution_count": 98,
     "metadata": {},
     "output_type": "execute_result"
    }
   ],
   "source": [
    "#Las localidalides con mayor cantidad de accidentes\n",
    "incidents[\"location\"].value_counts()"
   ]
  },
  {
   "cell_type": "code",
   "execution_count": 100,
   "id": "0c761aa9",
   "metadata": {},
   "outputs": [
    {
     "data": {
      "text/plain": [
       "(             type            location    0\n",
       " 18   Autolesiones             KENNEDY  462\n",
       " 20   Autolesiones                SUBA  349\n",
       " 21   Autolesiones            ENGATIVA  301\n",
       " 22   Autolesiones             USAQUEN  249\n",
       " 23   Autolesiones       PUENTE ARANDA  223\n",
       " 25   Autolesiones            FONTIBON  204\n",
       " 29   Autolesiones         TEUSAQUILLO  184\n",
       " 30   Autolesiones      CIUDAD BOLIVAR  182\n",
       " 34   Autolesiones                BOSA  161\n",
       " 43   Autolesiones           CHAPINERO  132\n",
       " 44   Autolesiones            SANTA FE  131\n",
       " 45   Autolesiones  RAFAEL URIBE URIBE  129\n",
       " 46   Autolesiones      BARRIOS UNIDOS  128\n",
       " 49   Autolesiones       SAN CRISTOBAL  117\n",
       " 55   Autolesiones        LOS MARTIRES   99\n",
       " 66   Autolesiones                USME   79\n",
       " 72   Autolesiones      ANTONIO NARIÑO   72\n",
       " 80   Autolesiones          TUNJUELITO   64\n",
       " 155  Autolesiones       LA CANDELARIA   14\n",
       " 290  Autolesiones    LOCATION MISSING    2,\n",
       " 'Esto es un insight')"
      ]
     },
     "execution_count": 100,
     "metadata": {},
     "output_type": "execute_result"
    }
   ],
   "source": [
    "#El mayor tipo de accidente por zona\n",
    "def mayor_tipo_accidente_por_zona():\n",
    "    s = incidents[[\"type\",\"location\"]].value_counts()\n",
    "    df = pd.DataFrame(s)\n",
    "    df.reset_index(inplace = True)\n",
    "    return df[df[\"type\"] == \"Autolesiones\"],\"Esto es un insight\"\n",
    "mayor_tipo_accidente_por_zona()"
   ]
  },
  {
   "cell_type": "code",
   "execution_count": 94,
   "id": "fe713a4f",
   "metadata": {},
   "outputs": [
    {
     "data": {
      "text/plain": [
       "hour  type                    \n",
       "0     Autolesiones                  88\n",
       "      Caída de ocupante              6\n",
       "      Caída de árbol                 2\n",
       "      Choque                      1194\n",
       "      Choque con volcamiento         2\n",
       "                                  ... \n",
       "23    Materiales peligrosos          1\n",
       "      Objetos en vía                 1\n",
       "      Otros                          4\n",
       "      Reprogramación de equipo       4\n",
       "      Volcamiento                   11\n",
       "Length: 458, dtype: int64"
      ]
     },
     "execution_count": 94,
     "metadata": {},
     "output_type": "execute_result"
    }
   ],
   "source": [
    "#El mayor tipo de accidente por hora\n",
    "incidents[[\"hour\",\"type\"]].value_counts().sort_values().sort_index(kind='mergesort')"
   ]
  },
  {
   "cell_type": "code",
   "execution_count": 65,
   "id": "74b27700",
   "metadata": {},
   "outputs": [
    {
     "data": {
      "text/plain": [
       "location        hour\n",
       "ANTONIO NARIÑO  0        20\n",
       "                1        20\n",
       "                2        13\n",
       "                3        18\n",
       "                4        23\n",
       "                       ... \n",
       "USME            19      156\n",
       "                20       97\n",
       "                21       82\n",
       "                22       74\n",
       "                23       75\n",
       "Length: 473, dtype: int64"
      ]
     },
     "execution_count": 65,
     "metadata": {},
     "output_type": "execute_result"
    }
   ],
   "source": [
    "#Zonas con mayor accidentalidad por hora\n",
    "incidents[[\"location\",\"hour\"]].value_counts().sort_values().sort_index(kind='mergesort')"
   ]
  },
  {
   "cell_type": "code",
   "execution_count": 76,
   "id": "36e5fd10",
   "metadata": {},
   "outputs": [
    {
     "data": {
      "text/plain": [
       "localidad       hour\n",
       "ANTONIO NARIÑO  0        295\n",
       "                1        272\n",
       "                2        198\n",
       "                3        187\n",
       "                4        285\n",
       "                        ... \n",
       "USME            19      3797\n",
       "                20      2792\n",
       "                21      2173\n",
       "                22      1448\n",
       "                23       818\n",
       "Length: 459, dtype: int64"
      ]
     },
     "execution_count": 76,
     "metadata": {},
     "output_type": "execute_result"
    }
   ],
   "source": [
    "#Extraer las localidades con mayor presencia de agentes por hora\n",
    "agents[[\"localidad\",\"hour\"]].value_counts().sort_values().sort_index(kind='mergesort')"
   ]
  }
 ],
 "metadata": {
  "kernelspec": {
   "display_name": "Python 3 (ipykernel)",
   "language": "python",
   "name": "python3"
  },
  "language_info": {
   "codemirror_mode": {
    "name": "ipython",
    "version": 3
   },
   "file_extension": ".py",
   "mimetype": "text/x-python",
   "name": "python",
   "nbconvert_exporter": "python",
   "pygments_lexer": "ipython3",
   "version": "3.9.12"
  }
 },
 "nbformat": 4,
 "nbformat_minor": 5
}
